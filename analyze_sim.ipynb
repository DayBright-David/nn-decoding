{
 "cells": [
  {
   "cell_type": "code",
   "execution_count": 67,
   "metadata": {},
   "outputs": [],
   "source": [
    "import numpy as np\n",
    "import pandas as pd\n",
    "from scipy.stats import rankdata, spearmanr\n",
    "\n",
    "%matplotlib inline\n",
    "import matplotlib.pyplot as plt\n",
    "import seaborn as sns\n",
    "sns.set_style(\"whitegrid\")"
   ]
  },
  {
   "cell_type": "markdown",
   "metadata": {},
   "source": [
    "**NB**: Confusingly, the code and Pandas tables label a quantity `sim` which is actually the *distance* (correlation distance) between sentence pairs. Sorry. We'll fix this before sharing."
   ]
  },
  {
   "cell_type": "code",
   "execution_count": 68,
   "metadata": {},
   "outputs": [
    {
     "data": {
      "text/html": [
       "<div>\n",
       "<style scoped>\n",
       "    .dataframe tbody tr th:only-of-type {\n",
       "        vertical-align: middle;\n",
       "    }\n",
       "\n",
       "    .dataframe tbody tr th {\n",
       "        vertical-align: top;\n",
       "    }\n",
       "\n",
       "    .dataframe thead th {\n",
       "        text-align: right;\n",
       "    }\n",
       "</style>\n",
       "<table border=\"1\" class=\"dataframe\">\n",
       "  <thead>\n",
       "    <tr style=\"text-align: right;\">\n",
       "      <th></th>\n",
       "      <th></th>\n",
       "      <th>sim</th>\n",
       "      <th>sent1</th>\n",
       "      <th>sent2</th>\n",
       "    </tr>\n",
       "    <tr>\n",
       "      <th>rep</th>\n",
       "      <th>idx</th>\n",
       "      <th></th>\n",
       "      <th></th>\n",
       "      <th></th>\n",
       "    </tr>\n",
       "  </thead>\n",
       "  <tbody>\n",
       "    <tr>\n",
       "      <th rowspan=\"5\" valign=\"top\">384sentences.baseline</th>\n",
       "      <th>0</th>\n",
       "      <td>0.035731</td>\n",
       "      <td>A man is a male human adult.</td>\n",
       "      <td>A woman is a female human adult.</td>\n",
       "    </tr>\n",
       "    <tr>\n",
       "      <th>1</th>\n",
       "      <td>0.111796</td>\n",
       "      <td>A train station is a place where passengers ge...</td>\n",
       "      <td>Passengers or cargo trains enter from a platfo...</td>\n",
       "    </tr>\n",
       "    <tr>\n",
       "      <th>2</th>\n",
       "      <td>0.136106</td>\n",
       "      <td>A car can be powered by a gasoline or electric...</td>\n",
       "      <td>Saws can be worked by hand, or powered by an e...</td>\n",
       "    </tr>\n",
       "    <tr>\n",
       "      <th>3</th>\n",
       "      <td>0.136417</td>\n",
       "      <td>Broccoli is a plant in the cabbage family.</td>\n",
       "      <td>Lentils are the seeds of a plant of the legume...</td>\n",
       "    </tr>\n",
       "    <tr>\n",
       "      <th>4</th>\n",
       "      <td>0.142251</td>\n",
       "      <td>An apple is a fruit that can be green, red or ...</td>\n",
       "      <td>Lentils can be red, green, brown, black or yel...</td>\n",
       "    </tr>\n",
       "  </tbody>\n",
       "</table>\n",
       "</div>"
      ],
      "text/plain": [
       "                                sim  \\\n",
       "rep                   idx             \n",
       "384sentences.baseline 0    0.035731   \n",
       "                      1    0.111796   \n",
       "                      2    0.136106   \n",
       "                      3    0.136417   \n",
       "                      4    0.142251   \n",
       "\n",
       "                                                                       sent1  \\\n",
       "rep                   idx                                                      \n",
       "384sentences.baseline 0                         A man is a male human adult.   \n",
       "                      1    A train station is a place where passengers ge...   \n",
       "                      2    A car can be powered by a gasoline or electric...   \n",
       "                      3           Broccoli is a plant in the cabbage family.   \n",
       "                      4    An apple is a fruit that can be green, red or ...   \n",
       "\n",
       "                                                                       sent2  \n",
       "rep                   idx                                                     \n",
       "384sentences.baseline 0                     A woman is a female human adult.  \n",
       "                      1    Passengers or cargo trains enter from a platfo...  \n",
       "                      2    Saws can be worked by hand, or powered by an e...  \n",
       "                      3    Lentils are the seeds of a plant of the legume...  \n",
       "                      4    Lentils can be red, green, brown, black or yel...  "
      ]
     },
     "execution_count": 68,
     "metadata": {},
     "output_type": "execute_result"
    }
   ],
   "source": [
    "rep1 = \"baseline\"\n",
    "rep2 = \"imdbsentiment\"\n",
    "names = [\"rep\", \"idx\", \"sim\", \"sent1\", \"sent2\"]\n",
    "try:\n",
    "    sims = pd.read_csv(\"sim_384sentences.%s_384sentences.%s.csv\" % (rep1, rep2), header=None, names=names)\n",
    "except FileNotFoundError:\n",
    "    sims = pd.read_csv(\"sim_384sentences.%s_384sentences.%s.csv\" % (rep2, rep1), header=None, names=names)\n",
    "    \n",
    "sims = sims.set_index([\"rep\", \"idx\"])\n",
    "sims.head()"
   ]
  },
  {
   "cell_type": "code",
   "execution_count": 69,
   "metadata": {},
   "outputs": [
    {
     "data": {
      "text/plain": [
       "73536"
      ]
     },
     "execution_count": 69,
     "metadata": {},
     "output_type": "execute_result"
    }
   ],
   "source": [
    "sent_pairs = list(set(zip(sims.sent1, sims.sent2)))\n",
    "len(sent_pairs)"
   ]
  },
  {
   "cell_type": "code",
   "execution_count": 70,
   "metadata": {},
   "outputs": [
    {
     "data": {
      "text/html": [
       "<div>\n",
       "<style scoped>\n",
       "    .dataframe tbody tr th:only-of-type {\n",
       "        vertical-align: middle;\n",
       "    }\n",
       "\n",
       "    .dataframe tbody tr th {\n",
       "        vertical-align: top;\n",
       "    }\n",
       "\n",
       "    .dataframe thead th {\n",
       "        text-align: right;\n",
       "    }\n",
       "</style>\n",
       "<table border=\"1\" class=\"dataframe\">\n",
       "  <thead>\n",
       "    <tr style=\"text-align: right;\">\n",
       "      <th></th>\n",
       "      <th></th>\n",
       "      <th></th>\n",
       "      <th>idx</th>\n",
       "      <th>sim</th>\n",
       "    </tr>\n",
       "    <tr>\n",
       "      <th>rep</th>\n",
       "      <th>sent1</th>\n",
       "      <th>sent2</th>\n",
       "      <th></th>\n",
       "      <th></th>\n",
       "    </tr>\n",
       "  </thead>\n",
       "  <tbody>\n",
       "    <tr>\n",
       "      <th rowspan=\"5\" valign=\"top\">384sentences.baseline</th>\n",
       "      <th rowspan=\"5\" valign=\"top\">A banana is a long fruit that grows in bunchs, with a soft edible inside.</th>\n",
       "      <th>A banana when ripe can be yellow, purple or red and have small brown spots.</th>\n",
       "      <td>2335</td>\n",
       "      <td>0.599438</td>\n",
       "    </tr>\n",
       "    <tr>\n",
       "      <th>A bed is a piece of furniture used as a place to sleep or have sex in.</th>\n",
       "      <td>7757</td>\n",
       "      <td>0.719388</td>\n",
       "    </tr>\n",
       "    <tr>\n",
       "      <th>A bed is made of a mattress and a box spring, plus sheets, pillows and covers.</th>\n",
       "      <td>27555</td>\n",
       "      <td>0.884466</td>\n",
       "    </tr>\n",
       "    <tr>\n",
       "      <th>A bee is a flying insect, with a black and yellow body and six legs.</th>\n",
       "      <td>8084</td>\n",
       "      <td>0.724178</td>\n",
       "    </tr>\n",
       "    <tr>\n",
       "      <th>A bicycle is a vehicle with two wheels and pedals on a frame.</th>\n",
       "      <td>58160</td>\n",
       "      <td>1.069423</td>\n",
       "    </tr>\n",
       "  </tbody>\n",
       "</table>\n",
       "</div>"
      ],
      "text/plain": [
       "                                                                                                                               idx  \\\n",
       "rep                   sent1                                              sent2                                                       \n",
       "384sentences.baseline A banana is a long fruit that grows in bunchs, ... A banana when ripe can be yellow, purple or red...   2335   \n",
       "                                                                         A bed is a piece of furniture used as a place t...   7757   \n",
       "                                                                         A bed is made of a mattress and a box spring, p...  27555   \n",
       "                                                                         A bee is a flying insect, with a black and yell...   8084   \n",
       "                                                                         A bicycle is a vehicle with two wheels and peda...  58160   \n",
       "\n",
       "                                                                                                                                  sim  \n",
       "rep                   sent1                                              sent2                                                         \n",
       "384sentences.baseline A banana is a long fruit that grows in bunchs, ... A banana when ripe can be yellow, purple or red...  0.599438  \n",
       "                                                                         A bed is a piece of furniture used as a place t...  0.719388  \n",
       "                                                                         A bed is made of a mattress and a box spring, p...  0.884466  \n",
       "                                                                         A bee is a flying insect, with a black and yell...  0.724178  \n",
       "                                                                         A bicycle is a vehicle with two wheels and peda...  1.069423  "
      ]
     },
     "execution_count": 70,
     "metadata": {},
     "output_type": "execute_result"
    }
   ],
   "source": [
    "sims = sims.reset_index().set_index([\"rep\", \"sent1\", \"sent2\"]).sort_index()\n",
    "sims.head()"
   ]
  },
  {
   "cell_type": "code",
   "execution_count": 71,
   "metadata": {},
   "outputs": [],
   "source": [
    "pair_sims_rep1 = sims.loc[\"384sentences.%s\" % rep1].sim\n",
    "pair_sims_rep2 = sims.loc[\"384sentences.%s\" % rep2].sim"
   ]
  },
  {
   "cell_type": "code",
   "execution_count": 72,
   "metadata": {},
   "outputs": [
    {
     "data": {
      "text/plain": [
       "sent1                                                                      sent2                                                                         \n",
       "A banana is a long fruit that grows in bunchs, with a soft edible inside.  A banana when ripe can be yellow, purple or red and have small brown spots.       0.599438\n",
       "                                                                           A bed is a piece of furniture used as a place to sleep or have sex in.            0.719388\n",
       "                                                                           A bed is made of a mattress and a box spring, plus sheets, pillows and covers.    0.884466\n",
       "                                                                           A bee is a flying insect, with a black and yellow body and six legs.              0.724178\n",
       "                                                                           A bicycle is a vehicle with two wheels and pedals on a frame.                     1.069423\n",
       "Name: sim, dtype: float64"
      ]
     },
     "execution_count": 72,
     "metadata": {},
     "output_type": "execute_result"
    }
   ],
   "source": [
    "pair_sims_rep1.head()"
   ]
  },
  {
   "cell_type": "code",
   "execution_count": 73,
   "metadata": {},
   "outputs": [
    {
     "data": {
      "text/plain": [
       "SpearmanrResult(correlation=0.10034080540981775, pvalue=7.665788498575479e-164)"
      ]
     },
     "execution_count": 73,
     "metadata": {},
     "output_type": "execute_result"
    }
   ],
   "source": [
    "spearmanr(pair_sims_rep1, pair_sims_rep2)"
   ]
  },
  {
   "cell_type": "code",
   "execution_count": 74,
   "metadata": {},
   "outputs": [],
   "source": [
    "rep1_ranks = rankdata(pair_sims_rep1)\n",
    "rep2_ranks = rankdata(pair_sims_rep2)"
   ]
  },
  {
   "cell_type": "code",
   "execution_count": 75,
   "metadata": {},
   "outputs": [
    {
     "data": {
      "text/plain": [
       "[(2336.0, 8929.0),\n",
       " (7758.0, 11212.0),\n",
       " (27556.0, 60712.0),\n",
       " (8085.0, 6643.0),\n",
       " (58161.0, 67127.0),\n",
       " (28573.0, 65971.0),\n",
       " (68677.0, 50266.0),\n",
       " (73238.0, 69838.0),\n",
       " (26438.0, 51956.0),\n",
       " (9427.0, 2188.0),\n",
       " (3591.0, 2914.0),\n",
       " (29754.0, 55665.0),\n",
       " (73177.0, 26690.0),\n",
       " (53337.0, 14508.0),\n",
       " (8916.0, 3854.0),\n",
       " (26771.0, 4970.0),\n",
       " (41238.5, 13584.0),\n",
       " (33896.0, 71875.0),\n",
       " (45232.0, 24151.0),\n",
       " (51866.5, 55083.0)]"
      ]
     },
     "execution_count": 75,
     "metadata": {},
     "output_type": "execute_result"
    }
   ],
   "source": [
    "list(zip(rep1_ranks, rep2_ranks))[:20]"
   ]
  },
  {
   "cell_type": "code",
   "execution_count": 76,
   "metadata": {},
   "outputs": [
    {
     "data": {
      "text/plain": [
       "<matplotlib.collections.PathCollection at 0x2b1d00fdb358>"
      ]
     },
     "execution_count": 76,
     "metadata": {},
     "output_type": "execute_result"
    },
    {
     "data": {
      "image/png": "[encoded data removed]",
      "text/plain": [
       "<Figure size 432x288 with 1 Axes>"
      ]
     },
     "metadata": {},
     "output_type": "display_data"
    }
   ],
   "source": [
    "plt.scatter(rep1_ranks, rep2_ranks)"
   ]
  },
  {
   "cell_type": "code",
   "execution_count": 77,
   "metadata": {},
   "outputs": [
    {
     "data": {
      "text/html": [
       "<div>\n",
       "<style scoped>\n",
       "    .dataframe tbody tr th:only-of-type {\n",
       "        vertical-align: middle;\n",
       "    }\n",
       "\n",
       "    .dataframe tbody tr th {\n",
       "        vertical-align: top;\n",
       "    }\n",
       "\n",
       "    .dataframe thead th {\n",
       "        text-align: right;\n",
       "    }\n",
       "</style>\n",
       "<table border=\"1\" class=\"dataframe\">\n",
       "  <thead>\n",
       "    <tr style=\"text-align: right;\">\n",
       "      <th></th>\n",
       "      <th></th>\n",
       "      <th></th>\n",
       "      <th>idx</th>\n",
       "      <th>sim</th>\n",
       "      <th>sim_rank</th>\n",
       "    </tr>\n",
       "    <tr>\n",
       "      <th>rep</th>\n",
       "      <th>sent1</th>\n",
       "      <th>sent2</th>\n",
       "      <th></th>\n",
       "      <th></th>\n",
       "      <th></th>\n",
       "    </tr>\n",
       "  </thead>\n",
       "  <tbody>\n",
       "    <tr>\n",
       "      <th rowspan=\"5\" valign=\"top\">384sentences.baseline</th>\n",
       "      <th rowspan=\"5\" valign=\"top\">A banana is a long fruit that grows in bunchs, with a soft edible inside.</th>\n",
       "      <th>A banana when ripe can be yellow, purple or red and have small brown spots.</th>\n",
       "      <td>2335</td>\n",
       "      <td>0.599438</td>\n",
       "      <td>2336.0</td>\n",
       "    </tr>\n",
       "    <tr>\n",
       "      <th>A bed is a piece of furniture used as a place to sleep or have sex in.</th>\n",
       "      <td>7757</td>\n",
       "      <td>0.719388</td>\n",
       "      <td>7758.0</td>\n",
       "    </tr>\n",
       "    <tr>\n",
       "      <th>A bed is made of a mattress and a box spring, plus sheets, pillows and covers.</th>\n",
       "      <td>27555</td>\n",
       "      <td>0.884466</td>\n",
       "      <td>27556.0</td>\n",
       "    </tr>\n",
       "    <tr>\n",
       "      <th>A bee is a flying insect, with a black and yellow body and six legs.</th>\n",
       "      <td>8084</td>\n",
       "      <td>0.724178</td>\n",
       "      <td>8085.0</td>\n",
       "    </tr>\n",
       "    <tr>\n",
       "      <th>A bicycle is a vehicle with two wheels and pedals on a frame.</th>\n",
       "      <td>58160</td>\n",
       "      <td>1.069423</td>\n",
       "      <td>58161.0</td>\n",
       "    </tr>\n",
       "  </tbody>\n",
       "</table>\n",
       "</div>"
      ],
      "text/plain": [
       "                                                                                                                               idx  \\\n",
       "rep                   sent1                                              sent2                                                       \n",
       "384sentences.baseline A banana is a long fruit that grows in bunchs, ... A banana when ripe can be yellow, purple or red...   2335   \n",
       "                                                                         A bed is a piece of furniture used as a place t...   7757   \n",
       "                                                                         A bed is made of a mattress and a box spring, p...  27555   \n",
       "                                                                         A bee is a flying insect, with a black and yell...   8084   \n",
       "                                                                         A bicycle is a vehicle with two wheels and peda...  58160   \n",
       "\n",
       "                                                                                                                                  sim  \\\n",
       "rep                   sent1                                              sent2                                                          \n",
       "384sentences.baseline A banana is a long fruit that grows in bunchs, ... A banana when ripe can be yellow, purple or red...  0.599438   \n",
       "                                                                         A bed is a piece of furniture used as a place t...  0.719388   \n",
       "                                                                         A bed is made of a mattress and a box spring, p...  0.884466   \n",
       "                                                                         A bee is a flying insect, with a black and yell...  0.724178   \n",
       "                                                                         A bicycle is a vehicle with two wheels and peda...  1.069423   \n",
       "\n",
       "                                                                                                                             sim_rank  \n",
       "rep                   sent1                                              sent2                                                         \n",
       "384sentences.baseline A banana is a long fruit that grows in bunchs, ... A banana when ripe can be yellow, purple or red...    2336.0  \n",
       "                                                                         A bed is a piece of furniture used as a place t...    7758.0  \n",
       "                                                                         A bed is made of a mattress and a box spring, p...   27556.0  \n",
       "                                                                         A bee is a flying insect, with a black and yell...    8085.0  \n",
       "                                                                         A bicycle is a vehicle with two wheels and peda...   58161.0  "
      ]
     },
     "execution_count": 77,
     "metadata": {},
     "output_type": "execute_result"
    }
   ],
   "source": [
    "sims.loc[(\"384sentences.%s\" % rep1, slice(None), slice(None)), \"sim_rank\"] = rep1_ranks\n",
    "sims.loc[(\"384sentences.%s\" % rep2, slice(None), slice(None)), \"sim_rank\"] = rep2_ranks\n",
    "sims.head()"
   ]
  },
  {
   "cell_type": "markdown",
   "metadata": {},
   "source": [
    "## Rank differences\n",
    "\n",
    "Let's compare differences in the ranks of sentence pair similarities, arbitrarily taking the difference `rep1_rank - rep2_rank`. Highly negative values indicate that `rep1` ranks the pair far lower distance (higher similarity) than `rep2`."
   ]
  },
  {
   "cell_type": "code",
   "execution_count": 78,
   "metadata": {},
   "outputs": [
    {
     "data": {
      "text/plain": [
       "sent1                                                                      sent2                                                                         \n",
       "A banana is a long fruit that grows in bunchs, with a soft edible inside.  A banana when ripe can be yellow, purple or red and have small brown spots.       -6593.0\n",
       "                                                                           A bed is a piece of furniture used as a place to sleep or have sex in.            -3454.0\n",
       "                                                                           A bed is made of a mattress and a box spring, plus sheets, pillows and covers.   -33156.0\n",
       "                                                                           A bee is a flying insect, with a black and yellow body and six legs.               1442.0\n",
       "                                                                           A bicycle is a vehicle with two wheels and pedals on a frame.                     -8966.0\n",
       "Name: sim_rank, dtype: float64"
      ]
     },
     "execution_count": 78,
     "metadata": {},
     "output_type": "execute_result"
    }
   ],
   "source": [
    "sim_rank_differences = sims.loc[\"384sentences.%s\" % rep1].sim_rank - sims.loc[\"384sentences.%s\" % rep2].sim_rank\n",
    "sim_rank_differences.head()"
   ]
  },
  {
   "cell_type": "code",
   "execution_count": 79,
   "metadata": {},
   "outputs": [
    {
     "data": {
      "text/plain": [
       "sent1                                                                                  sent2                                                                               \n",
       "A boy is a young male child who has not undergone puberty.                             An adult male behaving immaturely is often referred to as a boy.                       -73327.0\n",
       "A dress is like a shirt attached to a long, matching skirt.                            Sweaters differ in cut, collar and sleeve shape, as well as decoration.                -73010.0\n",
       "Gloves to protect against cold are made of wool or lined waterproof material.          Sweaters are often knitted from wool but cotton is also common.                        -72912.0\n",
       "A boy is a young male child who has not undergone puberty.                             A girl is a female human who has not yet reached maturity.                             -72876.0\n",
       "Murder a serious crime because it deprives the victim of their existence.              A convicted murderer is often given a life sentence or the death penalty.              -72346.0\n",
       "A desk is a piece of furniture used for working at, sometimes with a computer.         A table is a piece of furniture with a flat surface and legs.                          -72329.0\n",
       "A girl is a female human who has not yet reached maturity.                             Men differ from women in height, weight, and body structure.                           -72270.0\n",
       "Spiders are insects with eight legs that make silk.                                    Spiders build webs with silk and use them to catch insects.                            -72269.0\n",
       "A dress is like a shirt attached to a long, matching skirt.                            It can be hard to climb stairs or ride a bike in a dress.                              -72099.0\n",
       "Drunk driving of any vehicle is a crime in most of the world.                          Murder a serious crime because it deprives the victim of their existence.              -71923.0\n",
       "A toaster is a kitchen appliance for toasting bread using heating elements.            They allow bread to be cooked with toppings like garlic or cheese.                     -71887.0\n",
       "Carpenters use tools such as hammers, saws, pliers and planes.                         The small sharp points along the cutting side of the saw are called the teeth.         -71671.0\n",
       "Some people collect butterflies because of their colorful wings.                       Large numbers of people have to migrate away from dust bowls.                          -71611.0\n",
       "A hammer is a tool used to deliver an impact to an object.                             Depending on the size and format, scissors can cut paper, hair or fabric.              -71574.0\n",
       "A boy is a young male child who has not undergone puberty.                             Sweaters differ in cut, collar and sleeve shape, as well as decoration.                -71489.0\n",
       "An adult male behaving immaturely is often referred to as a boy.                       Murder a serious crime because it deprives the victim of their existence.              -71400.0\n",
       "The driver steers the car on roads, other passengers just sit.                         Drunk driving of any vehicle is a crime in most of the world.                          -71382.0\n",
       "Fingers are used for grasping, writing, grooming and other activities.                 Girls often like playing with dolls and social games.                                  -71375.0\n",
       "An adult male behaving immaturely is often referred to as a boy.                       A dress is like a shirt attached to a long, matching skirt.                            -71109.0\n",
       "Eagles have hooked beaks for tearing flesh, strong legs and sharp talons.              A horse is a large hoofed mammal with four long, muscular legs.                        -71105.0\n",
       "A desert is a natural environment where almost no rain falls.                          Hot deserts are usually filled with sand dunes or rocks.                               -71050.0\n",
       "An apartment may have one or more rooms, as well as a kitchen and a bathroom.          People often put carpets on a floor, for comfort and to dampen noise.                  -71026.0\n",
       "A dress is like a shirt attached to a long, matching skirt.                            Sweaters are often knitted from wool but cotton is also common.                        -70952.0\n",
       "Large numbers of people have to migrate away from dust bowls.                          Cyclones can produce very powerful winds and torrential rain.                          -70850.0\n",
       "A horse is a large hoofed mammal with four long, muscular legs.                        A whale is a very large mammal that lives in the ocean.                                -70829.0\n",
       "A boy becomes a man after passing through puberty.                                     Water freezes at a low temperature and becomes solid ice.                              -70804.0\n",
       "Murder a serious crime because it deprives the victim of their existence.              Killing in self-defense, accidentally or in war is not considered murder.              -70776.0\n",
       "A forest is an area with a high density of trees and canopy cover.                     A mountain is a landform that rises steeply above surrounding land.                    -70747.0\n",
       "The small sharp points along the cutting side of the saw are called the teeth.         Depending on the size and format, scissors can cut paper, hair or fabric.              -70734.0\n",
       "Bees spread pollen between flowers as they collect nectar to make honey.               Spiders build webs with silk and use them to catch insects.                            -70686.0\n",
       "                                                                                                                                                                                ...   \n",
       "Hospitals are staffed by professional physicians, surgeons, and nurses.                A peach is an orange-yellow fruit with a characteristic smell.                          69982.0\n",
       "Accordions produce sound with bellows that blow air through reeds.                     A dress is like a shirt attached to a long, matching skirt.                             70003.0\n",
       "A blacksmith hammers and bends hot iron on an anvil to change its shape.               Drunk driving of any vehicle is a crime in most of the world.                           70053.5\n",
       "Ravens have large brains and are capable of problem solving.                           The blades are usually metallic, with plastic or metal handles.                         70103.0\n",
       "A bed is a piece of furniture used as a place to sleep or have sex in.                 Lentils can be red, green, brown, black or yellow.                                      70185.0\n",
       "Sweaters are often knitted from wool but cotton is also common.                        A toaster is a kitchen appliance for toasting bread using heating elements.             70243.0\n",
       "A horse has a tail and a mane on its neck, and is usually gray or brown.               An igloo is a type of shelter made from blocks of snow by Inuit.                        70272.0\n",
       "The bald eagle has a bright white head and is the national bird of the United States.  People also use their feet to kick, in both fighting and sports.                        70305.0\n",
       "Fingers are used for grasping, writing, grooming and other activities.                 A forest is an area with a high density of trees and canopy cover.                      70450.0\n",
       "At puberty the body of a girl develops into that of a woman.                           Lentils can be red, green, brown, black or yellow.                                      70450.5\n",
       "Men differ from women in height, weight, and body structure.                           They allow bread to be cooked with toppings like garlic or cheese.                      70491.0\n",
       "An apple is a fruit that can be green, red or yellow.                                  Men differ from women in height, weight, and body structure.                            70528.0\n",
       "A boy is a young male child who has not undergone puberty.                             A tropical cyclone is a storm formed over warm tropical sea.                            70604.0\n",
       "Carpenters use tools such as hammers, saws, pliers and planes.                         Water freezes at a low temperature and becomes solid ice.                               70730.0\n",
       "Hot deserts are usually filled with sand dunes or rocks.                               Screwdrivers can also be used to remove screws after they are inserted.                 70755.0\n",
       "Librarians work at libraries and are experts at finding and organizing information.    A convicted murderer is often given a life sentence or the death penalty.               70764.0\n",
       "Floors may be made of bare concrete, tile, linoleum or wooden floorboards.             Ravens have large brains and are capable of problem solving.                            70807.0\n",
       "A boy is a young male child who has not undergone puberty.                             A tropical cyclone can move inland and seriously damage property.                       70916.0\n",
       "Lentils can be red, green, brown, black or yellow.                                     Men differ from women in height, weight, and body structure.                            70993.0\n",
       "A dress is like a shirt attached to a long, matching skirt.                            Some windows have multiple panes to increase insulation inside.                         71068.0\n",
       "A boy is a young male child who has not undergone puberty.                             Large numbers of people have to migrate away from dust bowls.                           71123.0\n",
       "                                                                                       Flood can be caused by heavy rain or rapid snow melt, as well as earthquakes at sea.    71157.0\n",
       "Carpenters use tools such as hammers, saws, pliers and planes.                         Orange juice is often drunk at breakfast from a glass.                                  71169.5\n",
       "Spiders build webs with silk and use them to catch insects.                            The violin is an instrument with four strings that is played with a bow.                71223.0\n",
       "Girls often like playing with dolls and social games.                                  Hammers vary in the shape of the head and handle length.                                71227.0\n",
       "The mouth is the face cavity we put food in when we eat.                               Sweaters are often knitted from wool but cotton is also common.                         71786.5\n",
       "Orange juice is a drink made from the liquid in orange pulp.                           Ravens have large brains and are capable of problem solving.                            71932.0\n",
       "A bed is a piece of furniture used as a place to sleep or have sex in.                 Large numbers of people have to migrate away from dust bowls.                           71965.0\n",
       "Some people collect butterflies because of their colorful wings.                       The violin is an instrument with four strings that is played with a bow.                72359.0\n",
       "Forks are usually  made of metal, or plastic, if disposable.                           Ravens have large brains and are capable of problem solving.                            72698.0\n",
       "Name: sim_rank, Length: 73536, dtype: float64"
      ]
     },
     "execution_count": 79,
     "metadata": {},
     "output_type": "execute_result"
    }
   ],
   "source": [
    "sim_rank_differences.sort_values()"
   ]
  }
 ],
 "metadata": {
  "kernelspec": {
   "display_name": "Python 3",
   "language": "python",
   "name": "python3"
  },
  "language_info": {
   "codemirror_mode": {
    "name": "ipython",
    "version": 3
   },
   "file_extension": ".py",
   "mimetype": "text/x-python",
   "name": "python",
   "nbconvert_exporter": "python",
   "pygments_lexer": "ipython3",
   "version": "3.6.5"
  }
 },
 "nbformat": 4,
 "nbformat_minor": 2
}
