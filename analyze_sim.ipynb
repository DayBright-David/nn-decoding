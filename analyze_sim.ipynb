{
 "cells": [
  {
   "cell_type": "code",
   "execution_count": 88,
   "metadata": {},
   "outputs": [],
   "source": [
    "from pathlib import Path\n",
    "\n",
    "import numpy as np\n",
    "import pandas as pd\n",
    "from scipy.stats import rankdata, spearmanr\n",
    "\n",
    "%matplotlib inline\n",
    "import matplotlib.pyplot as plt\n",
    "import seaborn as sns\n",
    "sns.set_style(\"whitegrid\")"
   ]
  },
  {
   "cell_type": "code",
   "execution_count": 90,
   "metadata": {},
   "outputs": [],
   "source": [
    "out_dirs = [Path(dirname) for dirname in [\"heatmap_run1\", \"heatmap_run2\", \"heatmap_run3\", \"heatmap_run4\", \"heatmap_run5\"]]\n",
    "reps = [\"fairseq.wmt14.en-fr.fconv\", \"skipthought\"]\n",
    "np.random.shuffle(reps)\n",
    "\n",
    "rep1, rep2 = reps\n",
    "names = [\"rep\", \"idx\", \"dist\", \"sent1\", \"sent2\"]\n",
    "\n",
    "dists = []\n",
    "for out_dir in out_dirs:\n",
    "    try:\n",
    "        dists_i = pd.read_csv(out_dir / (\"sim_384sentences.%s_384sentences.%s.csv\" % (rep1, rep2)), header=None, names=names)\n",
    "    except FileNotFoundError:\n",
    "        dists_i = pd.read_csv(out_dir / (\"sim_384sentences.%s_384sentences.%s.csv\" % (rep2, rep1)), header=None, names=names)\n",
    "        \n",
    "    dists_i = dists_i.reset_index().set_index([\"rep\", \"sent1\", \"sent2\"]).sort_index()\n",
    "    dists.append(dists_i)\n",
    "    \n",
    "dists = sum(dists) / len(dists)"
   ]
  },
  {
   "cell_type": "code",
   "execution_count": 91,
   "metadata": {},
   "outputs": [
    {
     "data": {
      "text/html": [
       "<div>\n",
       "<style scoped>\n",
       "    .dataframe tbody tr th:only-of-type {\n",
       "        vertical-align: middle;\n",
       "    }\n",
       "\n",
       "    .dataframe tbody tr th {\n",
       "        vertical-align: top;\n",
       "    }\n",
       "\n",
       "    .dataframe thead th {\n",
       "        text-align: right;\n",
       "    }\n",
       "</style>\n",
       "<table border=\"1\" class=\"dataframe\">\n",
       "  <thead>\n",
       "    <tr style=\"text-align: right;\">\n",
       "      <th></th>\n",
       "      <th></th>\n",
       "      <th></th>\n",
       "      <th>index</th>\n",
       "      <th>idx</th>\n",
       "      <th>dist</th>\n",
       "    </tr>\n",
       "    <tr>\n",
       "      <th>rep</th>\n",
       "      <th>sent1</th>\n",
       "      <th>sent2</th>\n",
       "      <th></th>\n",
       "      <th></th>\n",
       "      <th></th>\n",
       "    </tr>\n",
       "  </thead>\n",
       "  <tbody>\n",
       "    <tr>\n",
       "      <th rowspan=\"5\" valign=\"top\">384sentences.fairseq.wmt14.en-fr.fconv</th>\n",
       "      <th rowspan=\"5\" valign=\"top\">A banana is a long fruit that grows in bunchs, with a soft edible inside.</th>\n",
       "      <th>A banana when ripe can be yellow, purple or red and have small brown spots.</th>\n",
       "      <td>73602.6</td>\n",
       "      <td>66.6</td>\n",
       "      <td>0.493461</td>\n",
       "    </tr>\n",
       "    <tr>\n",
       "      <th>A bed is a piece of furniture used as a place to sleep or have sex in.</th>\n",
       "      <td>140296.8</td>\n",
       "      <td>66760.8</td>\n",
       "      <td>1.057154</td>\n",
       "    </tr>\n",
       "    <tr>\n",
       "      <th>A bed is made of a mattress and a box spring, plus sheets, pillows and covers.</th>\n",
       "      <td>82956.4</td>\n",
       "      <td>9420.4</td>\n",
       "      <td>0.962816</td>\n",
       "    </tr>\n",
       "    <tr>\n",
       "      <th>A bee is a flying insect, with a black and yellow body and six legs.</th>\n",
       "      <td>91763.8</td>\n",
       "      <td>18227.8</td>\n",
       "      <td>0.959213</td>\n",
       "    </tr>\n",
       "    <tr>\n",
       "      <th>A bicycle is a vehicle with two wheels and pedals on a frame.</th>\n",
       "      <td>78629.6</td>\n",
       "      <td>5093.6</td>\n",
       "      <td>0.941865</td>\n",
       "    </tr>\n",
       "  </tbody>\n",
       "</table>\n",
       "</div>"
      ],
      "text/plain": [
       "                                                                                                                                                 index  \\\n",
       "rep                                    sent1                                              sent2                                                          \n",
       "384sentences.fairseq.wmt14.en-fr.fconv A banana is a long fruit that grows in bunchs, ... A banana when ripe can be yellow, purple or red...   73602.6   \n",
       "                                                                                          A bed is a piece of furniture used as a place t...  140296.8   \n",
       "                                                                                          A bed is made of a mattress and a box spring, p...   82956.4   \n",
       "                                                                                          A bee is a flying insect, with a black and yell...   91763.8   \n",
       "                                                                                          A bicycle is a vehicle with two wheels and peda...   78629.6   \n",
       "\n",
       "                                                                                                                                                  idx  \\\n",
       "rep                                    sent1                                              sent2                                                         \n",
       "384sentences.fairseq.wmt14.en-fr.fconv A banana is a long fruit that grows in bunchs, ... A banana when ripe can be yellow, purple or red...     66.6   \n",
       "                                                                                          A bed is a piece of furniture used as a place t...  66760.8   \n",
       "                                                                                          A bed is made of a mattress and a box spring, p...   9420.4   \n",
       "                                                                                          A bee is a flying insect, with a black and yell...  18227.8   \n",
       "                                                                                          A bicycle is a vehicle with two wheels and peda...   5093.6   \n",
       "\n",
       "                                                                                                                                                  dist  \n",
       "rep                                    sent1                                              sent2                                                         \n",
       "384sentences.fairseq.wmt14.en-fr.fconv A banana is a long fruit that grows in bunchs, ... A banana when ripe can be yellow, purple or red...  0.493461  \n",
       "                                                                                          A bed is a piece of furniture used as a place t...  1.057154  \n",
       "                                                                                          A bed is made of a mattress and a box spring, p...  0.962816  \n",
       "                                                                                          A bee is a flying insect, with a black and yell...  0.959213  \n",
       "                                                                                          A bicycle is a vehicle with two wheels and peda...  0.941865  "
      ]
     },
     "execution_count": 91,
     "metadata": {},
     "output_type": "execute_result"
    }
   ],
   "source": [
    "dists.head()"
   ]
  },
  {
   "cell_type": "code",
   "execution_count": 92,
   "metadata": {},
   "outputs": [],
   "source": [
    "pair_dists_rep1 = dists.loc[\"384sentences.%s\" % rep1].dist\n",
    "pair_dists_rep2 = dists.loc[\"384sentences.%s\" % rep2].dist"
   ]
  },
  {
   "cell_type": "code",
   "execution_count": 93,
   "metadata": {},
   "outputs": [
    {
     "data": {
      "text/plain": [
       "sent1                                                                      sent2                                                                         \n",
       "A banana is a long fruit that grows in bunchs, with a soft edible inside.  A banana when ripe can be yellow, purple or red and have small brown spots.       0.468358\n",
       "                                                                           A bed is a piece of furniture used as a place to sleep or have sex in.            1.003322\n",
       "                                                                           A bed is made of a mattress and a box spring, plus sheets, pillows and covers.    0.900890\n",
       "                                                                           A bee is a flying insect, with a black and yellow body and six legs.              0.802326\n",
       "                                                                           A bicycle is a vehicle with two wheels and pedals on a frame.                     1.021152\n",
       "Name: dist, dtype: float64"
      ]
     },
     "execution_count": 93,
     "metadata": {},
     "output_type": "execute_result"
    }
   ],
   "source": [
    "pair_dists_rep1.head()"
   ]
  },
  {
   "cell_type": "code",
   "execution_count": 94,
   "metadata": {},
   "outputs": [
    {
     "data": {
      "text/plain": [
       "SpearmanrResult(correlation=0.31482708653803421, pvalue=0.0)"
      ]
     },
     "execution_count": 94,
     "metadata": {},
     "output_type": "execute_result"
    }
   ],
   "source": [
    "spearmanr(pair_dists_rep1, pair_dists_rep2)"
   ]
  },
  {
   "cell_type": "markdown",
   "metadata": {},
   "source": [
    "Let's create and analyze rank data for the pairwise distance measures. Here a low pairwise rank = low pairwise distance = high pairwise similarity."
   ]
  },
  {
   "cell_type": "code",
   "execution_count": 95,
   "metadata": {},
   "outputs": [],
   "source": [
    "rep1_ranks = rankdata(pair_dists_rep1)\n",
    "rep2_ranks = rankdata(pair_dists_rep2)"
   ]
  },
  {
   "cell_type": "code",
   "execution_count": 96,
   "metadata": {},
   "outputs": [
    {
     "data": {
      "text/plain": [
       "[(175.0, 62.0),\n",
       " (31846.0, 69396.0),\n",
       " (10385.0, 8135.0),\n",
       " (3491.0, 6987.0),\n",
       " (37605.0, 3652.0),\n",
       " (30258.0, 7849.0),\n",
       " (39423.0, 69078.0),\n",
       " (56497.0, 63414.0),\n",
       " (6501.0, 4752.0),\n",
       " (25780.0, 24599.0),\n",
       " (18421.0, 46209.0),\n",
       " (5337.0, 13543.0),\n",
       " (52071.0, 72392.0),\n",
       " (34284.0, 27822.0),\n",
       " (6111.0, 1509.0),\n",
       " (12821.0, 602.0),\n",
       " (6670.0, 20263.0),\n",
       " (39646.0, 12544.0),\n",
       " (21629.0, 59107.0),\n",
       " (62070.0, 9583.0)]"
      ]
     },
     "execution_count": 96,
     "metadata": {},
     "output_type": "execute_result"
    }
   ],
   "source": [
    "list(zip(rep1_ranks, rep2_ranks))[:20]"
   ]
  },
  {
   "cell_type": "code",
   "execution_count": 97,
   "metadata": {},
   "outputs": [
    {
     "data": {
      "text/plain": [
       "<matplotlib.collections.PathCollection at 0x2b8b45697518>"
      ]
     },
     "execution_count": 97,
     "metadata": {},
     "output_type": "execute_result"
    },
    {
     "data": {
      "image/png": "[encoded data removed]",
      "text/plain": [
       "<Figure size 432x288 with 1 Axes>"
      ]
     },
     "metadata": {},
     "output_type": "display_data"
    }
   ],
   "source": [
    "plt.scatter(rep1_ranks, rep2_ranks)"
   ]
  },
  {
   "cell_type": "code",
   "execution_count": 98,
   "metadata": {},
   "outputs": [
    {
     "data": {
      "text/html": [
       "<div>\n",
       "<style scoped>\n",
       "    .dataframe tbody tr th:only-of-type {\n",
       "        vertical-align: middle;\n",
       "    }\n",
       "\n",
       "    .dataframe tbody tr th {\n",
       "        vertical-align: top;\n",
       "    }\n",
       "\n",
       "    .dataframe thead th {\n",
       "        text-align: right;\n",
       "    }\n",
       "</style>\n",
       "<table border=\"1\" class=\"dataframe\">\n",
       "  <thead>\n",
       "    <tr style=\"text-align: right;\">\n",
       "      <th></th>\n",
       "      <th></th>\n",
       "      <th></th>\n",
       "      <th>index</th>\n",
       "      <th>idx</th>\n",
       "      <th>dist</th>\n",
       "      <th>dist_rank</th>\n",
       "    </tr>\n",
       "    <tr>\n",
       "      <th>rep</th>\n",
       "      <th>sent1</th>\n",
       "      <th>sent2</th>\n",
       "      <th></th>\n",
       "      <th></th>\n",
       "      <th></th>\n",
       "      <th></th>\n",
       "    </tr>\n",
       "  </thead>\n",
       "  <tbody>\n",
       "    <tr>\n",
       "      <th rowspan=\"5\" valign=\"top\">384sentences.fairseq.wmt14.en-fr.fconv</th>\n",
       "      <th rowspan=\"5\" valign=\"top\">A banana is a long fruit that grows in bunchs, with a soft edible inside.</th>\n",
       "      <th>A banana when ripe can be yellow, purple or red and have small brown spots.</th>\n",
       "      <td>73602.6</td>\n",
       "      <td>66.6</td>\n",
       "      <td>0.493461</td>\n",
       "      <td>62.0</td>\n",
       "    </tr>\n",
       "    <tr>\n",
       "      <th>A bed is a piece of furniture used as a place to sleep or have sex in.</th>\n",
       "      <td>140296.8</td>\n",
       "      <td>66760.8</td>\n",
       "      <td>1.057154</td>\n",
       "      <td>69396.0</td>\n",
       "    </tr>\n",
       "    <tr>\n",
       "      <th>A bed is made of a mattress and a box spring, plus sheets, pillows and covers.</th>\n",
       "      <td>82956.4</td>\n",
       "      <td>9420.4</td>\n",
       "      <td>0.962816</td>\n",
       "      <td>8135.0</td>\n",
       "    </tr>\n",
       "    <tr>\n",
       "      <th>A bee is a flying insect, with a black and yellow body and six legs.</th>\n",
       "      <td>91763.8</td>\n",
       "      <td>18227.8</td>\n",
       "      <td>0.959213</td>\n",
       "      <td>6987.0</td>\n",
       "    </tr>\n",
       "    <tr>\n",
       "      <th>A bicycle is a vehicle with two wheels and pedals on a frame.</th>\n",
       "      <td>78629.6</td>\n",
       "      <td>5093.6</td>\n",
       "      <td>0.941865</td>\n",
       "      <td>3652.0</td>\n",
       "    </tr>\n",
       "  </tbody>\n",
       "</table>\n",
       "</div>"
      ],
      "text/plain": [
       "                                                                                                                                                 index  \\\n",
       "rep                                    sent1                                              sent2                                                          \n",
       "384sentences.fairseq.wmt14.en-fr.fconv A banana is a long fruit that grows in bunchs, ... A banana when ripe can be yellow, purple or red...   73602.6   \n",
       "                                                                                          A bed is a piece of furniture used as a place t...  140296.8   \n",
       "                                                                                          A bed is made of a mattress and a box spring, p...   82956.4   \n",
       "                                                                                          A bee is a flying insect, with a black and yell...   91763.8   \n",
       "                                                                                          A bicycle is a vehicle with two wheels and peda...   78629.6   \n",
       "\n",
       "                                                                                                                                                  idx  \\\n",
       "rep                                    sent1                                              sent2                                                         \n",
       "384sentences.fairseq.wmt14.en-fr.fconv A banana is a long fruit that grows in bunchs, ... A banana when ripe can be yellow, purple or red...     66.6   \n",
       "                                                                                          A bed is a piece of furniture used as a place t...  66760.8   \n",
       "                                                                                          A bed is made of a mattress and a box spring, p...   9420.4   \n",
       "                                                                                          A bee is a flying insect, with a black and yell...  18227.8   \n",
       "                                                                                          A bicycle is a vehicle with two wheels and peda...   5093.6   \n",
       "\n",
       "                                                                                                                                                  dist  \\\n",
       "rep                                    sent1                                              sent2                                                          \n",
       "384sentences.fairseq.wmt14.en-fr.fconv A banana is a long fruit that grows in bunchs, ... A banana when ripe can be yellow, purple or red...  0.493461   \n",
       "                                                                                          A bed is a piece of furniture used as a place t...  1.057154   \n",
       "                                                                                          A bed is made of a mattress and a box spring, p...  0.962816   \n",
       "                                                                                          A bee is a flying insect, with a black and yell...  0.959213   \n",
       "                                                                                          A bicycle is a vehicle with two wheels and peda...  0.941865   \n",
       "\n",
       "                                                                                                                                              dist_rank  \n",
       "rep                                    sent1                                              sent2                                                          \n",
       "384sentences.fairseq.wmt14.en-fr.fconv A banana is a long fruit that grows in bunchs, ... A banana when ripe can be yellow, purple or red...       62.0  \n",
       "                                                                                          A bed is a piece of furniture used as a place t...    69396.0  \n",
       "                                                                                          A bed is made of a mattress and a box spring, p...     8135.0  \n",
       "                                                                                          A bee is a flying insect, with a black and yell...     6987.0  \n",
       "                                                                                          A bicycle is a vehicle with two wheels and peda...     3652.0  "
      ]
     },
     "execution_count": 98,
     "metadata": {},
     "output_type": "execute_result"
    }
   ],
   "source": [
    "# Add rank information to main dataframe.\n",
    "dists.loc[(\"384sentences.%s\" % rep1, slice(None), slice(None)), \"dist_rank\"] = rep1_ranks\n",
    "dists.loc[(\"384sentences.%s\" % rep2, slice(None), slice(None)), \"dist_rank\"] = rep2_ranks\n",
    "dists.head()"
   ]
  },
  {
   "cell_type": "markdown",
   "metadata": {},
   "source": [
    "## Rank differences\n",
    "\n",
    "Let's compare differences in the ranks of sentence pair distances, arbitrarily taking the difference `rep1_rank - rep2_rank`. Highly negative values indicate that `rep1` ranks the pair far lower distance (higher similarity) than `rep2`."
   ]
  },
  {
   "cell_type": "code",
   "execution_count": 99,
   "metadata": {},
   "outputs": [
    {
     "data": {
      "text/plain": [
       "sent1                                                                      sent2                                                                         \n",
       "A banana is a long fruit that grows in bunchs, with a soft edible inside.  A banana when ripe can be yellow, purple or red and have small brown spots.         113.0\n",
       "                                                                           A bed is a piece of furniture used as a place to sleep or have sex in.           -37550.0\n",
       "                                                                           A bed is made of a mattress and a box spring, plus sheets, pillows and covers.     2250.0\n",
       "                                                                           A bee is a flying insect, with a black and yellow body and six legs.              -3496.0\n",
       "                                                                           A bicycle is a vehicle with two wheels and pedals on a frame.                     33953.0\n",
       "Name: dist_rank, dtype: float64"
      ]
     },
     "execution_count": 99,
     "metadata": {},
     "output_type": "execute_result"
    }
   ],
   "source": [
    "dist_rank_differences = dists.loc[\"384sentences.%s\" % rep1].dist_rank - dists.loc[\"384sentences.%s\" % rep2].dist_rank\n",
    "dist_rank_differences.head()"
   ]
  },
  {
   "cell_type": "markdown",
   "metadata": {},
   "source": [
    "Let's look at the extremes of the rank difference series. Extremely negative sentence pairs here are those scored highly similar by `rep1` relative to `rep2`."
   ]
  },
  {
   "cell_type": "code",
   "execution_count": 100,
   "metadata": {},
   "outputs": [
    {
     "data": {
      "text/plain": [
       "sent1                                                                                 sent2                                                                              \n",
       "Broccoli is a plant in the cabbage family.                                            Lentils are cooked by boiling and are a great source of protein.                      -72294.0\n",
       "Lettuce can be eaten cold and raw, in salads and other dishes, or cooked.             Salmon is the most common farmed fish, though it can also be caught in the wild.      -72290.0\n",
       "A boy is a young male child who has not undergone puberty.                            A woman is stereotypically seen as a caregiver.                                       -72038.0\n",
       "A banana is a long fruit that grows in bunchs, with a soft edible inside.             Peaches are sweet and delicate, and must be harvested after ripening.                 -71003.0\n",
       "A shoe is clothing for the foot, with a sole, an outsole and a heel.                  A sweater that opens down the front is called a cardigan.                             -70869.0\n",
       "Apples can be eaten raw, roasted or baked in pies.                                    Broccoli has a green flower head and a thick, tough stalk.                            -70781.0\n",
       "Cod flesh is white and mild-tasting, and flakes easily when cooked.                   Salmon can be eaten raw in sushi or cooked by grilling, poaching or in other ways.    -70713.0\n",
       "A bed is a piece of furniture used as a place to sleep or have sex in.                A log cabin is a small house built from round logs.                                   -70606.0\n",
       "Eagles live in eyries and some species eat fish and others small mammals.             A parrot is a bird that lives in warm and tropical regions.                           -70471.0\n",
       "A door is a movable barrier to entrance or exit from an enclosed area.                An igloo is a type of shelter made from blocks of snow by Inuit.                      -70080.0\n",
       "A banana when ripe can be yellow, purple or red and have small brown spots.           The tomato is a shiny and smooth red fruit, with a savory taste.                      -70023.0\n",
       "Coffee is a popular drink in many countries, and usually served hot.                  Orange juice has a sweet, acid taste and contains a lot of vitamin C.                 -69954.0\n",
       "Broccoli is high in vitamins, fiber and other nutrients.                              Lentils are the seeds of a plant of the legume family.                                -69953.0\n",
       "A bicycle is a vehicle with two wheels and pedals on a frame.                         An elephant has a long nose called a trunk, which can grab things or food.            -69935.0\n",
       "A clarinet is a long black tube with a flare at the bottom.                           The piano repertoire is large and famous pianists can give solo concerts.             -69913.0\n",
       "A cod is a fish that lives in the colder areas of the Atlantic.                       Whales have been hunted for meat, whale oil and ambergris.                            -69875.0\n",
       "In a flood a river will flow out of its channel or break dams and levees.             Cyclones can produce very powerful winds and torrential rain.                         -69817.0\n",
       "A house has a roof and walls to keep out cold and rain, and windows to let light in.  An igloo is a type of shelter made from blocks of snow by Inuit.                      -69702.0\n",
       "Coffee contains a mild drug called caffeine that keeps people awake.                  Orange juice is often drunk at breakfast from a glass.                                -69698.0\n",
       "The biggest hot desert is the Sahara in northern Africa.                              An igloo is a type of shelter made from blocks of snow by Inuit.                      -69650.0\n",
       "In a flood a river will flow out of its channel or break dams and levees.             A shark is a large fish with a cartilage skeleton.                                    -69440.0\n",
       "Fresh cod is used for fish and chips, salted cod for elaborate dishes.                A swamp is covered with shallow water, mud and vegetation.                            -69411.0\n",
       "Broccoli can be boiled, stir-fried or eaten raw.                                      The tomato is a shiny and smooth red fruit, with a savory taste.                      -69377.0\n",
       "During a flood people evacuate and the contaminated water causes diseases.            Most sharks predate on fish and mammals, with powerful jaws.                          -69054.0\n",
       "The elephant flaps its large ears to cool the blood in them and its body.             The mouth is the face cavity we put food in when we eat.                              -69036.0\n",
       "Another type of bed is the hammock, a fabric sling suspended above the ground.        A forest is an area with a high density of trees and canopy cover.                    -69014.0\n",
       "Lettuce is a biennial plant often grown in temperate climates as a leaf vegetable.    Mosquitoes have mouthparts for piercing the skin of plants and animals.               -68976.0\n",
       "Eagles live in eyries and some species eat fish and others small mammals.             Piranhas have very sharp teeth and are opportunistic carnivores.                      -68952.0\n",
       "Cod flesh is white and mild-tasting, and flakes easily when cooked.                   Salmon is a fish that migrates from fresh water to the ocean and back to spawn.       -68879.0\n",
       "A luthier is a carpenter that makes and repairs musical instruments.                  The piano has an enormous note range, and pedals to change the sound quality.         -68730.0\n",
       "                                                                                                                                                                              ...   \n",
       "A door is a movable barrier to entrance or exit from an enclosed area.                Piranhas eat fish, insects, lizards, mammals and carrion.                              67094.0\n",
       "A screwdriver is a tool for inserting and tightening screws into something.           Swamps are nesting and breeding grounds for birds and reptiles.                        67142.0\n",
       "An apple is a fruit that can be green, red or yellow.                                 Log cabins were used as first shelters by european settlers.                           67147.0\n",
       "Fresh cod is used for fish and chips, salted cod for elaborate dishes.                The type of forest depends on temperature and rainfall in its location.                67422.0\n",
       "A carpenter is an artist or manual laborer who works with wood.                       Orange juice is a drink made from the liquid in orange pulp.                           67481.5\n",
       "A hammer is a tool used to deliver an impact to an object.                            Swamps are nesting and breeding grounds for birds and reptiles.                        67495.0\n",
       "A cod is a fish that lives in the colder areas of the Atlantic.                       Insects have compound eyes made up of eye units facing in many directions.             67529.0\n",
       "A human can ride a horse while it walks, trots or gallops.                            Scientists publish their research in journals and conferences.                         67539.0\n",
       "A peach is an orange-yellow fruit with a characteristic smell.                        Ships are used to fish in the ocean and to transport cargo containers.                 68048.0\n",
       "A fork is a tool for eating solid foods, with a handle and several tines.             Cruise ships are floating hotels that take people between cities.                      68058.0\n",
       "An automobile, or car, is a wheeled vehicle for transporting passengers.              Spears were used for stabbing or throwing when fighting in war.                        68068.0\n",
       "Screwdrivers can also be used to remove screws after they are inserted.               A swamp is covered with shallow water, mud and vegetation.                             68090.0\n",
       "The grooves make the bullets spin around the rifle axis as they fly through the air.  Tomatoes can be used to make salads, soup or ketchup, as well as sauce.                68215.0\n",
       "Most doors have locks to control who gets to pass through them.                       The tomato is a shiny and smooth red fruit, with a savory taste.                       68399.0\n",
       "A car can be powered by a gasoline or electric engine.                                Chairs consist of a seat raised above floor level, supported by legs.                  68551.0\n",
       "A butterfly is a flying insect with four large wings.                                 A refrigerator can have shelves and small compartments for different types of food.    68623.0\n",
       "A clarinet is a woodwind musical instrument.                                          Farmers often drain swamps to produce fertile arable land.                             68703.0\n",
       "Whales have been hunted for meat, whale oil and ambergris.                            A window is a transparent opening in a wall to let light through.                      68799.0\n",
       "Many bees have stingers and can attack if they feel threatened.                       A dress is like a shirt attached to a long, matching skirt.                            68826.5\n",
       "A butterfly is a flying insect with four large wings.                                 Carpenters use tools such as hammers, saws, pliers and planes.                         68890.0\n",
       "The axe is a tool used to split and cut wood.                                         Commuter trains transport people between suburbs and stations inside a city.           68964.0\n",
       "Automobiles vary in size, number of doors and the type of trunk.                      A whale is a very large mammal that lives in the ocean.                                69115.0\n",
       "A carpenter is an artist or manual laborer who works with wood.                       Mosquitos are thin, small flying insects that emit a high-pitched sound.               69255.5\n",
       "Grenades can also be fired from rifles or shoulder launchers.                         A peach is an orange-yellow fruit with a characteristic smell.                         69310.0\n",
       "A house is a permanent building or structure for people or families to live in.       Whales breathe through blowholes on their heads when surfacing.                        69581.0\n",
       "Earthquakes shake the ground and can knock down buildings and other structures.       Salmon is the most common farmed fish, though it can also be caught in the wild.       69647.0\n",
       "A luthier is a carpenter that makes and repairs musical instruments.                  The mouth has teeth to chew food and mix it with saliva.                               69969.5\n",
       "Some animals and plants have adapted to live in deserts.                              A dress is like a shirt attached to a long, matching skirt.                            70168.0\n",
       "A blender is a kitchen appliance used to mix ingredients or puree food.               A soldier in the militia must wear a uniform, usually camouflage.                      71414.0\n",
       "A mug is normally ceramic, but can also be made of metal or glass.                    Vultures are scavenging birds, feeding mostly on the carcasses of dead animals.        71757.0\n",
       "Name: dist_rank, Length: 73536, dtype: float64"
      ]
     },
     "execution_count": 100,
     "metadata": {},
     "output_type": "execute_result"
    }
   ],
   "source": [
    "dist_rank_differences.sort_values()"
   ]
  },
  {
   "cell_type": "markdown",
   "metadata": {},
   "source": [
    "After blind reviewing above, reveal the identities of rep1 and rep2 below....\n",
    "\n",
    "t\n",
    "\n",
    "t\n",
    "\n",
    "t\n",
    "\n",
    "t\n",
    "t\n",
    "\n",
    "t\n",
    "\n",
    "t\n",
    "\n",
    "t\n",
    "t\n",
    "\n",
    "t\n",
    "\n",
    "t\n",
    "\n",
    "t\n",
    "t\n",
    "\n",
    "t\n",
    "\n",
    "t\n",
    "\n",
    "t\n",
    "t\n",
    "\n",
    "t\n",
    "\n",
    "t\n",
    "\n",
    "t\n",
    "t\n",
    "\n",
    "t\n",
    "\n",
    "t\n",
    "\n",
    "t\n",
    "t\n",
    "\n",
    "t\n",
    "\n",
    "t\n",
    "\n",
    "t\n",
    "t\n",
    "\n",
    "t\n",
    "\n",
    "t\n",
    "\n",
    "t\n",
    "t\n",
    "\n",
    "t\n",
    "\n",
    "t\n",
    "\n",
    "t\n",
    "t\n",
    "\n",
    "t\n",
    "\n",
    "t\n",
    "\n",
    "t\n",
    "t\n",
    "\n",
    "t\n",
    "\n",
    "t\n",
    "\n",
    "t"
   ]
  },
  {
   "cell_type": "code",
   "execution_count": 101,
   "metadata": {},
   "outputs": [
    {
     "data": {
      "text/plain": [
       "'skipthought'"
      ]
     },
     "execution_count": 101,
     "metadata": {},
     "output_type": "execute_result"
    }
   ],
   "source": [
    "rep1"
   ]
  },
  {
   "cell_type": "code",
   "execution_count": 102,
   "metadata": {},
   "outputs": [
    {
     "data": {
      "text/plain": [
       "'fairseq.wmt14.en-fr.fconv'"
      ]
     },
     "execution_count": 102,
     "metadata": {},
     "output_type": "execute_result"
    }
   ],
   "source": [
    "rep2"
   ]
  }
 ],
 "metadata": {
  "kernelspec": {
   "display_name": "Python 3",
   "language": "python",
   "name": "python3"
  },
  "language_info": {
   "codemirror_mode": {
    "name": "ipython",
    "version": 3
   },
   "file_extension": ".py",
   "mimetype": "text/x-python",
   "name": "python",
   "nbconvert_exporter": "python",
   "pygments_lexer": "ipython3",
   "version": "3.6.5"
  }
 },
 "nbformat": 4,
 "nbformat_minor": 2
}
