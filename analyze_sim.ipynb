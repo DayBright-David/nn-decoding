{
 "cells": [
  {
   "cell_type": "code",
   "execution_count": 123,
   "metadata": {},
   "outputs": [],
   "source": [
    "from pathlib import Path\n",
    "\n",
    "import numpy as np\n",
    "import pandas as pd\n",
    "from scipy.stats import rankdata, spearmanr\n",
    "\n",
    "%matplotlib inline\n",
    "import matplotlib.pyplot as plt\n",
    "import seaborn as sns\n",
    "sns.set_style(\"whitegrid\")"
   ]
  },
  {
   "cell_type": "markdown",
   "metadata": {},
   "source": [
    "**NB**: Confusingly, the code and Pandas tables label a quantity `sim` which is actually the *distance* (correlation distance) between sentence pairs. Sorry. We'll fix this before sharing."
   ]
  },
  {
   "cell_type": "code",
   "execution_count": 124,
   "metadata": {},
   "outputs": [
    {
     "data": {
      "text/html": [
       "<div>\n",
       "<style scoped>\n",
       "    .dataframe tbody tr th:only-of-type {\n",
       "        vertical-align: middle;\n",
       "    }\n",
       "\n",
       "    .dataframe tbody tr th {\n",
       "        vertical-align: top;\n",
       "    }\n",
       "\n",
       "    .dataframe thead th {\n",
       "        text-align: right;\n",
       "    }\n",
       "</style>\n",
       "<table border=\"1\" class=\"dataframe\">\n",
       "  <thead>\n",
       "    <tr style=\"text-align: right;\">\n",
       "      <th></th>\n",
       "      <th></th>\n",
       "      <th>sim</th>\n",
       "      <th>sent1</th>\n",
       "      <th>sent2</th>\n",
       "    </tr>\n",
       "    <tr>\n",
       "      <th>rep</th>\n",
       "      <th>idx</th>\n",
       "      <th></th>\n",
       "      <th></th>\n",
       "      <th></th>\n",
       "    </tr>\n",
       "  </thead>\n",
       "  <tbody>\n",
       "    <tr>\n",
       "      <th rowspan=\"5\" valign=\"top\">384sentences.elmo.2x4096</th>\n",
       "      <th>0</th>\n",
       "      <td>0.136120</td>\n",
       "      <td>A man is a male human adult.</td>\n",
       "      <td>A woman is a female human adult.</td>\n",
       "    </tr>\n",
       "    <tr>\n",
       "      <th>1</th>\n",
       "      <td>0.503826</td>\n",
       "      <td>A frying pan is a small pan with sloping sides...</td>\n",
       "      <td>A frying pan is used to fry, sear and brown food.</td>\n",
       "    </tr>\n",
       "    <tr>\n",
       "      <th>2</th>\n",
       "      <td>0.516924</td>\n",
       "      <td>Forks are usually  made of metal, or plastic, ...</td>\n",
       "      <td>Walls are usually made of stone, brick, or cem...</td>\n",
       "    </tr>\n",
       "    <tr>\n",
       "      <th>3</th>\n",
       "      <td>0.533812</td>\n",
       "      <td>A dress is a piece of clothing that women some...</td>\n",
       "      <td>A glove is a piece of clothing that covers the...</td>\n",
       "    </tr>\n",
       "    <tr>\n",
       "      <th>4</th>\n",
       "      <td>0.590919</td>\n",
       "      <td>The claw on the head can be used to remove nails.</td>\n",
       "      <td>Screwdrivers can also be used to remove screws...</td>\n",
       "    </tr>\n",
       "  </tbody>\n",
       "</table>\n",
       "</div>"
      ],
      "text/plain": [
       "                                   sim  \\\n",
       "rep                      idx             \n",
       "384sentences.elmo.2x4096 0    0.136120   \n",
       "                         1    0.503826   \n",
       "                         2    0.516924   \n",
       "                         3    0.533812   \n",
       "                         4    0.590919   \n",
       "\n",
       "                                                                          sent1  \\\n",
       "rep                      idx                                                      \n",
       "384sentences.elmo.2x4096 0                         A man is a male human adult.   \n",
       "                         1    A frying pan is a small pan with sloping sides...   \n",
       "                         2    Forks are usually  made of metal, or plastic, ...   \n",
       "                         3    A dress is a piece of clothing that women some...   \n",
       "                         4    The claw on the head can be used to remove nails.   \n",
       "\n",
       "                                                                          sent2  \n",
       "rep                      idx                                                     \n",
       "384sentences.elmo.2x4096 0                     A woman is a female human adult.  \n",
       "                         1    A frying pan is used to fry, sear and brown food.  \n",
       "                         2    Walls are usually made of stone, brick, or cem...  \n",
       "                         3    A glove is a piece of clothing that covers the...  \n",
       "                         4    Screwdrivers can also be used to remove screws...  "
      ]
     },
     "execution_count": 124,
     "metadata": {},
     "output_type": "execute_result"
    }
   ],
   "source": [
    "out_dir = Path(\"heatmap_run1\")\n",
    "rep1 = \"elmo.2x4096\"\n",
    "rep2 = \"infersent.allnli\"\n",
    "names = [\"rep\", \"idx\", \"dist\", \"sent1\", \"sent2\"]\n",
    "try:\n",
    "    dists = pd.read_csv(out_dir / (\"sim_384sentences.%s_384sentences.%s.csv\" % (rep1, rep2)), header=None, names=names)\n",
    "except FileNotFoundError:\n",
    "    dists = pd.read_csv(out_dir / (\"sim_384sentences.%s_384sentences.%s.csv\" % (rep2, rep1)), header=None, names=names)\n",
    "    \n",
    "dists = dists.set_index([\"rep\", \"idx\"])\n",
    "dists.head()"
   ]
  },
  {
   "cell_type": "code",
   "execution_count": 126,
   "metadata": {},
   "outputs": [
    {
     "data": {
      "text/html": [
       "<div>\n",
       "<style scoped>\n",
       "    .dataframe tbody tr th:only-of-type {\n",
       "        vertical-align: middle;\n",
       "    }\n",
       "\n",
       "    .dataframe tbody tr th {\n",
       "        vertical-align: top;\n",
       "    }\n",
       "\n",
       "    .dataframe thead th {\n",
       "        text-align: right;\n",
       "    }\n",
       "</style>\n",
       "<table border=\"1\" class=\"dataframe\">\n",
       "  <thead>\n",
       "    <tr style=\"text-align: right;\">\n",
       "      <th></th>\n",
       "      <th></th>\n",
       "      <th></th>\n",
       "      <th>idx</th>\n",
       "      <th>sim</th>\n",
       "    </tr>\n",
       "    <tr>\n",
       "      <th>rep</th>\n",
       "      <th>sent1</th>\n",
       "      <th>sent2</th>\n",
       "      <th></th>\n",
       "      <th></th>\n",
       "    </tr>\n",
       "  </thead>\n",
       "  <tbody>\n",
       "    <tr>\n",
       "      <th rowspan=\"5\" valign=\"top\">384sentences.elmo.2x4096</th>\n",
       "      <th rowspan=\"5\" valign=\"top\">A banana is a long fruit that grows in bunchs, with a soft edible inside.</th>\n",
       "      <th>A banana when ripe can be yellow, purple or red and have small brown spots.</th>\n",
       "      <td>1852</td>\n",
       "      <td>0.918857</td>\n",
       "    </tr>\n",
       "    <tr>\n",
       "      <th>A bed is a piece of furniture used as a place to sleep or have sex in.</th>\n",
       "      <td>11106</td>\n",
       "      <td>0.969593</td>\n",
       "    </tr>\n",
       "    <tr>\n",
       "      <th>A bed is made of a mattress and a box spring, plus sheets, pillows and covers.</th>\n",
       "      <td>3507</td>\n",
       "      <td>0.938815</td>\n",
       "    </tr>\n",
       "    <tr>\n",
       "      <th>A bee is a flying insect, with a black and yellow body and six legs.</th>\n",
       "      <td>69353</td>\n",
       "      <td>1.057835</td>\n",
       "    </tr>\n",
       "    <tr>\n",
       "      <th>A bicycle is a vehicle with two wheels and pedals on a frame.</th>\n",
       "      <td>7654</td>\n",
       "      <td>0.959950</td>\n",
       "    </tr>\n",
       "  </tbody>\n",
       "</table>\n",
       "</div>"
      ],
      "text/plain": [
       "                                                                                                                                  idx  \\\n",
       "rep                      sent1                                              sent2                                                       \n",
       "384sentences.elmo.2x4096 A banana is a long fruit that grows in bunchs, ... A banana when ripe can be yellow, purple or red...   1852   \n",
       "                                                                            A bed is a piece of furniture used as a place t...  11106   \n",
       "                                                                            A bed is made of a mattress and a box spring, p...   3507   \n",
       "                                                                            A bee is a flying insect, with a black and yell...  69353   \n",
       "                                                                            A bicycle is a vehicle with two wheels and peda...   7654   \n",
       "\n",
       "                                                                                                                                     sim  \n",
       "rep                      sent1                                              sent2                                                         \n",
       "384sentences.elmo.2x4096 A banana is a long fruit that grows in bunchs, ... A banana when ripe can be yellow, purple or red...  0.918857  \n",
       "                                                                            A bed is a piece of furniture used as a place t...  0.969593  \n",
       "                                                                            A bed is made of a mattress and a box spring, p...  0.938815  \n",
       "                                                                            A bee is a flying insect, with a black and yell...  1.057835  \n",
       "                                                                            A bicycle is a vehicle with two wheels and peda...  0.959950  "
      ]
     },
     "execution_count": 126,
     "metadata": {},
     "output_type": "execute_result"
    }
   ],
   "source": [
    "dists = dists.reset_index().set_index([\"rep\", \"sent1\", \"sent2\"]).sort_index()\n",
    "dists.head()"
   ]
  },
  {
   "cell_type": "code",
   "execution_count": 127,
   "metadata": {},
   "outputs": [],
   "source": [
    "pair_dists_rep1 = sims.loc[\"384sentences.%s\" % rep1].dist\n",
    "pair_dists_rep2 = sims.loc[\"384sentences.%s\" % rep2].dist"
   ]
  },
  {
   "cell_type": "code",
   "execution_count": 128,
   "metadata": {},
   "outputs": [
    {
     "data": {
      "text/plain": [
       "sent1                                                                      sent2                                                                         \n",
       "A banana is a long fruit that grows in bunchs, with a soft edible inside.  A banana when ripe can be yellow, purple or red and have small brown spots.       0.918857\n",
       "                                                                           A bed is a piece of furniture used as a place to sleep or have sex in.            0.969593\n",
       "                                                                           A bed is made of a mattress and a box spring, plus sheets, pillows and covers.    0.938815\n",
       "                                                                           A bee is a flying insect, with a black and yellow body and six legs.              1.057835\n",
       "                                                                           A bicycle is a vehicle with two wheels and pedals on a frame.                     0.959950\n",
       "Name: sim, dtype: float64"
      ]
     },
     "execution_count": 128,
     "metadata": {},
     "output_type": "execute_result"
    }
   ],
   "source": [
    "pair_dists_rep1.head()"
   ]
  },
  {
   "cell_type": "code",
   "execution_count": 129,
   "metadata": {},
   "outputs": [
    {
     "data": {
      "text/plain": [
       "SpearmanrResult(correlation=0.62287031136873716, pvalue=0.0)"
      ]
     },
     "execution_count": 129,
     "metadata": {},
     "output_type": "execute_result"
    }
   ],
   "source": [
    "spearmanr(pair_dists_rep1, pair_dists_rep2)"
   ]
  },
  {
   "cell_type": "markdown",
   "metadata": {},
   "source": [
    "Let's create and analyze rank data for the pairwise distance measures. Here a low pairwise rank = low pairwise distance = high pairwise similarity."
   ]
  },
  {
   "cell_type": "code",
   "execution_count": 130,
   "metadata": {},
   "outputs": [],
   "source": [
    "rep1_ranks = rankdata(pair_dists_rep1)\n",
    "rep2_ranks = rankdata(pair_dists_rep2)"
   ]
  },
  {
   "cell_type": "code",
   "execution_count": 131,
   "metadata": {},
   "outputs": [
    {
     "data": {
      "text/plain": [
       "[(1853.0, 1089.0),\n",
       " (11107.0, 10145.0),\n",
       " (3508.0, 2358.0),\n",
       " (69354.0, 38765.0),\n",
       " (7655.0, 24827.0),\n",
       " (51009.0, 67593.0),\n",
       " (48417.0, 66914.5),\n",
       " (25019.0, 61458.5),\n",
       " (1667.0, 7471.0),\n",
       " (20213.0, 6631.5),\n",
       " (21601.5, 12199.5),\n",
       " (10642.0, 7069.0),\n",
       " (41234.5, 69559.5),\n",
       " (21078.5, 33219.0),\n",
       " (4564.0, 4318.0),\n",
       " (60908.5, 7186.5),\n",
       " (7527.0, 2613.0),\n",
       " (8556.5, 6767.5),\n",
       " (68174.0, 46899.0),\n",
       " (14702.5, 62601.0)]"
      ]
     },
     "execution_count": 131,
     "metadata": {},
     "output_type": "execute_result"
    }
   ],
   "source": [
    "list(zip(rep1_ranks, rep2_ranks))[:20]"
   ]
  },
  {
   "cell_type": "code",
   "execution_count": 132,
   "metadata": {},
   "outputs": [
    {
     "data": {
      "text/plain": [
       "<matplotlib.collections.PathCollection at 0x2b1d011d6908>"
      ]
     },
     "execution_count": 132,
     "metadata": {},
     "output_type": "execute_result"
    },
    {
     "data": {
      "image/png": "[encoded data removed]",
      "text/plain": [
       "<Figure size 432x288 with 1 Axes>"
      ]
     },
     "metadata": {},
     "output_type": "display_data"
    }
   ],
   "source": [
    "plt.scatter(rep1_ranks, rep2_ranks)"
   ]
  },
  {
   "cell_type": "code",
   "execution_count": 133,
   "metadata": {},
   "outputs": [
    {
     "data": {
      "text/html": [
       "<div>\n",
       "<style scoped>\n",
       "    .dataframe tbody tr th:only-of-type {\n",
       "        vertical-align: middle;\n",
       "    }\n",
       "\n",
       "    .dataframe tbody tr th {\n",
       "        vertical-align: top;\n",
       "    }\n",
       "\n",
       "    .dataframe thead th {\n",
       "        text-align: right;\n",
       "    }\n",
       "</style>\n",
       "<table border=\"1\" class=\"dataframe\">\n",
       "  <thead>\n",
       "    <tr style=\"text-align: right;\">\n",
       "      <th></th>\n",
       "      <th></th>\n",
       "      <th></th>\n",
       "      <th>idx</th>\n",
       "      <th>sim</th>\n",
       "      <th>sim_rank</th>\n",
       "    </tr>\n",
       "    <tr>\n",
       "      <th>rep</th>\n",
       "      <th>sent1</th>\n",
       "      <th>sent2</th>\n",
       "      <th></th>\n",
       "      <th></th>\n",
       "      <th></th>\n",
       "    </tr>\n",
       "  </thead>\n",
       "  <tbody>\n",
       "    <tr>\n",
       "      <th rowspan=\"5\" valign=\"top\">384sentences.elmo.2x4096</th>\n",
       "      <th rowspan=\"5\" valign=\"top\">A banana is a long fruit that grows in bunchs, with a soft edible inside.</th>\n",
       "      <th>A banana when ripe can be yellow, purple or red and have small brown spots.</th>\n",
       "      <td>1852</td>\n",
       "      <td>0.918857</td>\n",
       "      <td>1853.0</td>\n",
       "    </tr>\n",
       "    <tr>\n",
       "      <th>A bed is a piece of furniture used as a place to sleep or have sex in.</th>\n",
       "      <td>11106</td>\n",
       "      <td>0.969593</td>\n",
       "      <td>11107.0</td>\n",
       "    </tr>\n",
       "    <tr>\n",
       "      <th>A bed is made of a mattress and a box spring, plus sheets, pillows and covers.</th>\n",
       "      <td>3507</td>\n",
       "      <td>0.938815</td>\n",
       "      <td>3508.0</td>\n",
       "    </tr>\n",
       "    <tr>\n",
       "      <th>A bee is a flying insect, with a black and yellow body and six legs.</th>\n",
       "      <td>69353</td>\n",
       "      <td>1.057835</td>\n",
       "      <td>69354.0</td>\n",
       "    </tr>\n",
       "    <tr>\n",
       "      <th>A bicycle is a vehicle with two wheels and pedals on a frame.</th>\n",
       "      <td>7654</td>\n",
       "      <td>0.959950</td>\n",
       "      <td>7655.0</td>\n",
       "    </tr>\n",
       "  </tbody>\n",
       "</table>\n",
       "</div>"
      ],
      "text/plain": [
       "                                                                                                                                  idx  \\\n",
       "rep                      sent1                                              sent2                                                       \n",
       "384sentences.elmo.2x4096 A banana is a long fruit that grows in bunchs, ... A banana when ripe can be yellow, purple or red...   1852   \n",
       "                                                                            A bed is a piece of furniture used as a place t...  11106   \n",
       "                                                                            A bed is made of a mattress and a box spring, p...   3507   \n",
       "                                                                            A bee is a flying insect, with a black and yell...  69353   \n",
       "                                                                            A bicycle is a vehicle with two wheels and peda...   7654   \n",
       "\n",
       "                                                                                                                                     sim  \\\n",
       "rep                      sent1                                              sent2                                                          \n",
       "384sentences.elmo.2x4096 A banana is a long fruit that grows in bunchs, ... A banana when ripe can be yellow, purple or red...  0.918857   \n",
       "                                                                            A bed is a piece of furniture used as a place t...  0.969593   \n",
       "                                                                            A bed is made of a mattress and a box spring, p...  0.938815   \n",
       "                                                                            A bee is a flying insect, with a black and yell...  1.057835   \n",
       "                                                                            A bicycle is a vehicle with two wheels and peda...  0.959950   \n",
       "\n",
       "                                                                                                                                sim_rank  \n",
       "rep                      sent1                                              sent2                                                         \n",
       "384sentences.elmo.2x4096 A banana is a long fruit that grows in bunchs, ... A banana when ripe can be yellow, purple or red...    1853.0  \n",
       "                                                                            A bed is a piece of furniture used as a place t...   11107.0  \n",
       "                                                                            A bed is made of a mattress and a box spring, p...    3508.0  \n",
       "                                                                            A bee is a flying insect, with a black and yell...   69354.0  \n",
       "                                                                            A bicycle is a vehicle with two wheels and peda...    7655.0  "
      ]
     },
     "execution_count": 133,
     "metadata": {},
     "output_type": "execute_result"
    }
   ],
   "source": [
    "# Add rank information to main dataframe.\n",
    "dists.loc[(\"384sentences.%s\" % rep1, slice(None), slice(None)), \"dist_rank\"] = rep1_ranks\n",
    "dists.loc[(\"384sentences.%s\" % rep2, slice(None), slice(None)), \"dist_rank\"] = rep2_ranks\n",
    "dists.head()"
   ]
  },
  {
   "cell_type": "markdown",
   "metadata": {},
   "source": [
    "## Rank differences\n",
    "\n",
    "Let's compare differences in the ranks of sentence pair distances, arbitrarily taking the difference `rep1_rank - rep2_rank`. Highly negative values indicate that `rep1` ranks the pair far lower distance (higher similarity) than `rep2`."
   ]
  },
  {
   "cell_type": "code",
   "execution_count": 134,
   "metadata": {},
   "outputs": [
    {
     "data": {
      "text/plain": [
       "sent1                                                                      sent2                                                                         \n",
       "A banana is a long fruit that grows in bunchs, with a soft edible inside.  A banana when ripe can be yellow, purple or red and have small brown spots.         764.0\n",
       "                                                                           A bed is a piece of furniture used as a place to sleep or have sex in.              962.0\n",
       "                                                                           A bed is made of a mattress and a box spring, plus sheets, pillows and covers.     1150.0\n",
       "                                                                           A bee is a flying insect, with a black and yellow body and six legs.              30589.0\n",
       "                                                                           A bicycle is a vehicle with two wheels and pedals on a frame.                    -17172.0\n",
       "Name: sim_rank, dtype: float64"
      ]
     },
     "execution_count": 134,
     "metadata": {},
     "output_type": "execute_result"
    }
   ],
   "source": [
    "sim_rank_differences = sims.loc[\"384sentences.%s\" % rep1].sim_rank - sims.loc[\"384sentences.%s\" % rep2].sim_rank\n",
    "sim_rank_differences.head()"
   ]
  },
  {
   "cell_type": "markdown",
   "metadata": {},
   "source": [
    "Let's look at the extremes of the rank difference series. Extremely negative sentence pairs here are those scored highly similar by `rep1` relative to `rep2`."
   ]
  },
  {
   "cell_type": "code",
   "execution_count": 135,
   "metadata": {},
   "outputs": [
    {
     "data": {
      "text/plain": [
       "sent1                                                                                  sent2                                                                               \n",
       "The term is used to indicate sex distinctions relative to girls.                       A glove is a piece of clothing that covers the hand and fingers.                       -66512.5\n",
       "A forest is an area with a high density of trees and canopy cover.                     Whales breathe through blowholes on their heads when surfacing.                        -65399.5\n",
       "Manhood is associated with masculinity and virility.                                   Pressing a piano key causes a felt-tipped hammer to hit a vibrating steel string.      -64273.0\n",
       "Elephants are the largest kind of land mammal, weighing several tons.                  When open, a window will also let air and sound through.                               -63973.0\n",
       "Axes are used by woodcutters and firemen entering buildings.                           An elephant has a long nose called a trunk, which can grab things or food.             -63359.0\n",
       "A fork is a tool for eating solid foods, with a handle and several tines.              Walls are usually made of stone, brick, or cement, as well as drywall.                 -63348.0\n",
       "A luthier is a carpenter that makes and repairs musical instruments.                   The fingertips are sensitive to temperature, pressure and vibration.                   -63208.0\n",
       "Peaches have a large, red-brown stone inside which contains the seed.                  The blades are usually metallic, with plastic or metal handles.                        -62861.5\n",
       "Spears were used for stabbing or throwing when fighting in war.                        A wall is a solid structure that defines and sometimes protects an area.               -62770.0\n",
       "The bald eagle has a bright white head and is the national bird of the United States.  They allow bread to be cooked with toppings like garlic or cheese.                     -62398.0\n",
       "Some people collect butterflies because of their colorful wings.                       Depending on the size and format, scissors can cut paper, hair or fabric.              -61936.5\n",
       "Salmon can be eaten raw in sushi or cooked by grilling, poaching or in other ways.     When open, a window will also let air and sound through.                               -61330.0\n",
       "Carpenters use tools such as hammers, saws, pliers and planes.                         A floor is a horizontal surface inside a building, used for walking on.                -61303.5\n",
       "Forks are usually  made of metal, or plastic, if disposable.                           Spiders build webs with silk and use them to catch insects.                            -61228.0\n",
       "Shears are large scissors used for cutting shrubs or pieces of metal.                  A woman is stereotypically seen as a caregiver.                                        -60554.5\n",
       "Eagles are large birds of prey that hunt during the day and have very good eyesight.   Manhood is associated with masculinity and virility.                                   -60301.0\n",
       "Peaches are sweet and delicate, and must be harvested after ripening.                  A raven is a large black bird that thrives in many climates.                           -60219.0\n",
       "A blacksmith hammers and bends hot iron on an anvil to change its shape.               Broccoli can be boiled, stir-fried or eaten raw.                                       -60065.0\n",
       "Cats can hunt mice or birds, but are often fed by their owners.                        Retaining walls provide a barrier to movement of earth, stone or water.                -59768.0\n",
       "A foot is a body part on the end of a leg.                                             Farmers often drain swamps to produce fertile arable land.                             -59096.0\n",
       "The greatest producers are tropical countries, such as India or Ecuador.               A log cabin is a small house built from round logs.                                    -59031.0\n",
       "A knife can be used to attack by slashing, stabbing or throwing.                       Water is the most common liquid on Earth, covering 70% of its area.                    -58807.5\n",
       "Seats are fixed chairs located in vehicles or in places like cinemas.                  Mosquitoes have mouthparts for piercing the skin of plants and animals.                -58708.0\n",
       "An apartment is a self-contained home that is part of a building.                      Salmon can be eaten raw in sushi or cooked by grilling, poaching or in other ways.     -58702.0\n",
       "The axe usually consists of a head attached to a handle.                               A desert is a natural environment where almost no rain falls.                          -58376.0\n",
       "Hammers vary in the shape of the head and handle length.                               A train station is a place where passengers get on or off a train.                     -58322.5\n",
       "A hammer is a tool used to deliver an impact to an object.                             Many vultures have a bald head without feathers for losing heat.                       -58319.5\n",
       "Mountains rise higher than hills and sometimes have snow at the top.                   Scissors are a two-bladed instrument used for cutting.                                 -58244.0\n",
       "Automobiles vary in size, number of doors and the type of trunk.                       The axe is a tool used to split and cut wood.                                          -58127.5\n",
       "A chair is a piece of furniture designed for people to sit on.                         Walls are usually made of stone, brick, or cement, as well as drywall.                 -58082.0\n",
       "                                                                                                                                                                                ...   \n",
       "Parrots have brightly-colored feathers and a sharp, curved beak.                       Spiders build webs with silk and use them to catch insects.                             61831.5\n",
       "An elephant has a long nose called a trunk, which can grab things or food.             A shark is a large fish with a cartilage skeleton.                                      62109.0\n",
       "Broccoli is a plant in the cabbage family.                                             A peach is an orange-yellow fruit with a characteristic smell.                          62358.0\n",
       "Flood can be caused by heavy rain or rapid snow melt, as well as earthquakes at sea.   Water freezes at a low temperature and becomes solid ice.                               62450.0\n",
       "A butterfly is a flying insect with four large wings.                                  A whale is a very large mammal that lives in the ocean.                                 62567.0\n",
       "A bicycle is a vehicle with two wheels and pedals on a frame.                          Saws can be worked by hand, or powered by an electric motor or gas engine.              62657.0\n",
       "The claws of cats are retractable so that they keep sharp.                             Female mosquitoes bite people and animals and suck their blood for protein.             62783.0\n",
       "A bed is made of a mattress and a box spring, plus sheets, pillows and covers.         A chair is a piece of furniture designed for people to sit on.                          63108.5\n",
       "Log cabins were built using logs with notch joints at the ends.                        The grooves make the bullets spin around the rifle axis as they fly through the air.    63311.0\n",
       "A cod is a fish that lives in the colder areas of the Atlantic.                        Lettuce can be eaten cold and raw, in salads and other dishes, or cooked.               63442.0\n",
       "Apples can be eaten raw, roasted or baked in pies.                                     Blenders are used to make milk shakes and fruit smoothies.                              63537.0\n",
       "                                                                                       Coffee is made from coffee beans, the seeds of the coffee plant.                        63912.0\n",
       "A bee is a flying insect, with a black and yellow body and six legs.                   Cod flesh is white and mild-tasting, and flakes easily when cooked.                     64404.0\n",
       "A hand grenade is an explosive used as a weapon against people.                        Spears are weapons that consist of a pole and sharpened head at one end.                64712.0\n",
       "A cooperative is a farm where many farmers share the land and equipment.               People can go to public libraries and borrow books to take home for several weeks.      64719.0\n",
       "Cats are small furry animals with four legs and a tail.                                Newborn animals must be fed milk before they can eat solid food.                        65154.0\n",
       "A banana is a long fruit that grows in bunchs, with a soft edible inside.              A mug is a sturdy cup with a handle for drinking hot liquids.                           65574.5\n",
       "A banana when ripe can be yellow, purple or red and have small brown spots.            A raven is a large black bird that thrives in many climates.                            65679.0\n",
       "A chair is a piece of furniture designed for people to sit on.                         A fork is a tool for eating solid foods, with a handle and several tines.               65702.0\n",
       "A knife can be used to attack by slashing, stabbing or throwing.                       A saw is a tool that uses a hard blade or abrasive wire to cut hard materials.          65726.0\n",
       "Broccoli can be boiled, stir-fried or eaten raw.                                       Spiders can be as small as a coin or as big as a bird.                                  66104.0\n",
       "A clarinet is a long black tube with a flare at the bottom.                            The piano repertoire is large and famous pianists can give solo concerts.               66130.0\n",
       "A mitten is a kind of glove where the four fingers are covered together.               A sweater that opens down the front is called a cardigan.                               66303.0\n",
       "A car can be powered by a gasoline or electric engine.                                 A ship is a large vehicle that floats and travels on water.                             66730.0\n",
       "Broccoli has a green flower head and a thick, tough stalk.                             Lentils are the seeds of a plant of the legume family.                                  66985.0\n",
       "Drought will cause crops and plants to stop growing and die.                           A cooperative is a farm where many farmers share the land and equipment.                68083.5\n",
       "The eye is an organ for sensing light and coding it for the visual cortex.             Salmon flesh is orange or red and has high protein content and a nice taste.            68486.0\n",
       "Most lettuce leaves taste bitter, but some are bred to remove the bitterness.          They allow bread to be cooked with toppings like garlic or cheese.                      68634.0\n",
       "An apple is a fruit that can be green, red or yellow.                                  Ravens feed on carrion, insects, berries or small animals.                              69024.0\n",
       "A parrot is a bird that lives in warm and tropical regions.                            A tropical cyclone can move inland and seriously damage property.                       69489.0\n",
       "Name: sim_rank, Length: 73536, dtype: float64"
      ]
     },
     "execution_count": 135,
     "metadata": {},
     "output_type": "execute_result"
    }
   ],
   "source": [
    "sim_rank_differences.sort_values()"
   ]
  }
 ],
 "metadata": {
  "kernelspec": {
   "display_name": "Python 3",
   "language": "python",
   "name": "python3"
  },
  "language_info": {
   "codemirror_mode": {
    "name": "ipython",
    "version": 3
   },
   "file_extension": ".py",
   "mimetype": "text/x-python",
   "name": "python",
   "nbconvert_exporter": "python",
   "pygments_lexer": "ipython3",
   "version": "3.6.5"
  }
 },
 "nbformat": 4,
 "nbformat_minor": 2
}
