{
 "cells": [
  {
   "cell_type": "markdown",
   "metadata": {},
   "source": [
    "## Brain decoding prediction analysis\n",
    "\n",
    "This notebook compares quantitative properties of the brain decoder predictions for different trained decoders / subjects / target representations."
   ]
  },
  {
   "cell_type": "code",
   "execution_count": 2,
   "metadata": {},
   "outputs": [],
   "source": [
    "from collections import defaultdict\n",
    "import itertools\n",
    "from pathlib import Path\n",
    "import re\n",
    "import sys\n",
    "\n",
    "%matplotlib inline\n",
    "import matplotlib.pyplot as plt\n",
    "import numpy as np\n",
    "import pandas as pd\n",
    "import seaborn as sns\n",
    "import scipy.io\n",
    "from scipy import stats as st\n",
    "from tqdm import tqdm_notebook\n",
    "sns.set_style(\"whitegrid\")\n",
    "\n",
    "%load_ext autoreload\n",
    "%autoreload 2\n",
    "\n",
    "sys.path.append(\"../src\")\n",
    "from rsa import rsa_encodings\n",
    "import util"
   ]
  },
  {
   "cell_type": "code",
   "execution_count": 3,
   "metadata": {},
   "outputs": [],
   "source": [
    "decoder_path = Path(\"../models/decoders\")\n",
    "bert_encoding_path = Path(\"../models/bert\")\n",
    "sentences_path = Path(\"../data/sentences/stimuli_384sentences.txt\")\n",
    "brains_path = Path(\"../data/brains\")\n",
    "\n",
    "bert_base_model = \"uncased_L-12_H-768_A-12\"\n",
    "finetune_desc = \"finetune-250\""
   ]
  },
  {
   "cell_type": "code",
   "execution_count": 4,
   "metadata": {},
   "outputs": [],
   "source": [
    "bert_models = [\"MNLI\", \"QQP\", \"SST\", \"SQuAD\", \"LM\", \"LM_contentonly\", \"LM_lmonly\", \"LM_scrambled\", \"LM_contentonly_scrambled\", \"LM_lmonly_scrambled\"]\n",
    "subjects = [\"M02\", \"M04\", \"M07\", \"M08\", \"M09\", \"M14\", \"M15\", \"P01\"]\n",
    "target_runs = [1, 2, 3, 4, 5, 6, 7, 8]\n",
    "steps = list(range(5, 255, 5))"
   ]
  },
  {
   "cell_type": "markdown",
   "metadata": {},
   "source": [
    "### Data loading"
   ]
  },
  {
   "cell_type": "code",
   "execution_count": 5,
   "metadata": {},
   "outputs": [],
   "source": [
    "PCA_DIM = 256"
   ]
  },
  {
   "cell_type": "code",
   "execution_count": 8,
   "metadata": {},
   "outputs": [
    {
     "data": {
      "application/vnd.jupyter.widget-view+json": {
       "model_id": "3076cbf412934b378ab247245b084182",
       "version_major": 2,
       "version_minor": 0
      },
      "text/plain": [
       "HBox(children=(IntProgress(value=0, description='Loading model steps', max=80, style=ProgressStyle(description…"
      ]
     },
     "metadata": {},
     "output_type": "display_data"
    },
    {
     "name": "stdout",
     "output_type": "stream",
     "text": [
      "\n"
     ]
    }
   ],
   "source": [
    "# Load model encoding data.\n",
    "encodings = {}\n",
    "steps_of_interest = [steps[-1]]\n",
    "for model, run, step in tqdm_notebook(list(itertools.product(bert_models, target_runs, steps_of_interest)), desc=\"Loading model steps\"):\n",
    "    encoding_name = \"encodings.%s.%s.%s-run%i-%i.npy\" % (finetune_desc, bert_base_model, model, run, step)\n",
    "    encoding_path = bert_encoding_path / encoding_name\n",
    "\n",
    "    try:\n",
    "        encodings[model, run, step] = util.load_encodings([encoding_path], project=PCA_DIM)\n",
    "    except FileNotFoundError:\n",
    "        continue"
   ]
  },
  {
   "cell_type": "code",
   "execution_count": 14,
   "metadata": {},
   "outputs": [],
   "source": [
    "encs2 = {\"/\".join(str(x) for x in k): v for k, v in encodings.items()}"
   ]
  },
  {
   "cell_type": "code",
   "execution_count": 15,
   "metadata": {},
   "outputs": [],
   "source": [
    "np.savez(\"../models/bert_encodings_20190508-1445.npz\", **encs2)"
   ]
  },
  {
   "cell_type": "code",
   "execution_count": 35,
   "metadata": {},
   "outputs": [
    {
     "data": {
      "application/vnd.jupyter.widget-view+json": {
       "model_id": "7b951aa7abd04c59a1e6f2d9f16358d3",
       "version_major": 2,
       "version_minor": 0
      },
      "text/plain": [
       "HBox(children=(IntProgress(value=0, description='Subjects', max=8, style=ProgressStyle(description_width='init…"
      ]
     },
     "metadata": {},
     "output_type": "display_data"
    },
    {
     "data": {
      "application/vnd.jupyter.widget-view+json": {
       "model_id": "",
       "version_major": 2,
       "version_minor": 0
      },
      "text/plain": [
       "HBox(children=(IntProgress(value=0, description='Loading predictions for target models', max=80, style=Progres…"
      ]
     },
     "metadata": {},
     "output_type": "display_data"
    },
    {
     "data": {
      "application/vnd.jupyter.widget-view+json": {
       "model_id": "",
       "version_major": 2,
       "version_minor": 0
      },
      "text/plain": [
       "HBox(children=(IntProgress(value=0, description='Loading predictions for target models', max=80, style=Progres…"
      ]
     },
     "metadata": {},
     "output_type": "display_data"
    },
    {
     "data": {
      "application/vnd.jupyter.widget-view+json": {
       "model_id": "",
       "version_major": 2,
       "version_minor": 0
      },
      "text/plain": [
       "HBox(children=(IntProgress(value=0, description='Loading predictions for target models', max=80, style=Progres…"
      ]
     },
     "metadata": {},
     "output_type": "display_data"
    },
    {
     "data": {
      "application/vnd.jupyter.widget-view+json": {
       "model_id": "",
       "version_major": 2,
       "version_minor": 0
      },
      "text/plain": [
       "HBox(children=(IntProgress(value=0, description='Loading predictions for target models', max=80, style=Progres…"
      ]
     },
     "metadata": {},
     "output_type": "display_data"
    },
    {
     "data": {
      "application/vnd.jupyter.widget-view+json": {
       "model_id": "",
       "version_major": 2,
       "version_minor": 0
      },
      "text/plain": [
       "HBox(children=(IntProgress(value=0, description='Loading predictions for target models', max=80, style=Progres…"
      ]
     },
     "metadata": {},
     "output_type": "display_data"
    },
    {
     "data": {
      "application/vnd.jupyter.widget-view+json": {
       "model_id": "",
       "version_major": 2,
       "version_minor": 0
      },
      "text/plain": [
       "HBox(children=(IntProgress(value=0, description='Loading predictions for target models', max=80, style=Progres…"
      ]
     },
     "metadata": {},
     "output_type": "display_data"
    },
    {
     "data": {
      "application/vnd.jupyter.widget-view+json": {
       "model_id": "",
       "version_major": 2,
       "version_minor": 0
      },
      "text/plain": [
       "HBox(children=(IntProgress(value=0, description='Loading predictions for target models', max=80, style=Progres…"
      ]
     },
     "metadata": {},
     "output_type": "display_data"
    },
    {
     "data": {
      "application/vnd.jupyter.widget-view+json": {
       "model_id": "",
       "version_major": 2,
       "version_minor": 0
      },
      "text/plain": [
       "HBox(children=(IntProgress(value=0, description='Loading predictions for target models', max=80, style=Progres…"
      ]
     },
     "metadata": {},
     "output_type": "display_data"
    },
    {
     "name": "stdout",
     "output_type": "stream",
     "text": [
      "\n"
     ]
    }
   ],
   "source": [
    "# Load decoder prediction data.\n",
    "predictions = {}\n",
    "for subject in tqdm_notebook(subjects, desc=\"Subjects\"):\n",
    "    for model, run, step in tqdm_notebook(list(itertools.product(bert_models, target_runs, steps_of_interest)), desc=\"Loading predictions for target models\", leave=False):\n",
    "        decoded_path = decoder_path / (\"encodings.%s.%s.%s-run%i-%i-%s.pred.npy\" % (finetune_desc, bert_base_model, model, run, step, subject))\n",
    "        try:\n",
    "            predictions[model, run, step, subject] = np.load(decoded_path)\n",
    "        except FileNotFoundError: pass\n",
    "        \n",
    "    # Add baseline predictions.\n",
    "    baseline_path = decoder_path / (\"encodings.%s-%s.pred.npy\" % (bert_base_model, subject))\n",
    "    predictions[\"_\", None, None, subject] = np.load(baseline_path)"
   ]
  },
  {
   "cell_type": "code",
   "execution_count": 37,
   "metadata": {},
   "outputs": [],
   "source": [
    "preds2 = {\"/\".join(str(x) for x in k): v for k, v in predictions.items()}"
   ]
  },
  {
   "cell_type": "code",
   "execution_count": 38,
   "metadata": {},
   "outputs": [],
   "source": [
    "np.savez(\"../models/decoder_predictions_20190508-1445.npz\", **preds2)"
   ]
  },
  {
   "cell_type": "markdown",
   "metadata": {},
   "source": [
    "#### Reload from cache ..\n",
    "\n",
    "If restarting this notebook, we can hopefully load the cached files instead:"
   ]
  },
  {
   "cell_type": "code",
   "execution_count": 39,
   "metadata": {},
   "outputs": [],
   "source": [
    "predictions = np.load(\"../models/decoder_predictions_20190508-1445.npz\")\n",
    "predictions = {tuple(k.split(\"/\")): v for k, v in predictions.items()}\n",
    "encodings = np.load(\"../models/bert_encodings_20190508-1445.npz\")\n",
    "encodings = {tuple(k.split(\"/\")): v for k, v in encodings.items()}"
   ]
  },
  {
   "cell_type": "code",
   "execution_count": 141,
   "metadata": {},
   "outputs": [],
   "source": [
    "# Normalize encodings as in regression.\n",
    "encodings = {k: v - v.mean(axis=0) for k, v in encodings.items()}\n",
    "encodings = {k: v / np.linalg.norm(v, axis=1, keepdims=True) for k, v in encodings.items()}"
   ]
  },
  {
   "cell_type": "markdown",
   "metadata": {},
   "source": [
    "### Prepare sentence data"
   ]
  },
  {
   "cell_type": "code",
   "execution_count": 40,
   "metadata": {},
   "outputs": [],
   "source": [
    "sentences = util.load_sentences(sentences_path)"
   ]
  },
  {
   "cell_type": "markdown",
   "metadata": {},
   "source": [
    "### Load original encodings"
   ]
  },
  {
   "cell_type": "code",
   "execution_count": 27,
   "metadata": {},
   "outputs": [],
   "source": [
    "# Load pretrained model encodings.\n",
    "encoding_path = bert_encoding_path / (\"encodings.%s.npy\" % (bert_base_model))\n",
    "baseline_encoding = util.load_encodings([encoding_path], project=PCA_DIM)"
   ]
  },
  {
   "cell_type": "markdown",
   "metadata": {},
   "source": [
    "### Error analysis\n",
    "\n",
    "Averaging across subjects, how does per-sentence error change over time?"
   ]
  },
  {
   "cell_type": "code",
   "execution_count": 142,
   "metadata": {},
   "outputs": [],
   "source": [
    "pred_mses = {}"
   ]
  },
  {
   "cell_type": "code",
   "execution_count": 143,
   "metadata": {},
   "outputs": [],
   "source": [
    "for (model, run, step), encodings_i in encodings.items():\n",
    "    mses = {}\n",
    "    for subject in subjects:\n",
    "        try:\n",
    "            mses_s = np.linalg.norm(encodings_i - predictions[model, run, step, subject], axis=1)\n",
    "        except:\n",
    "            continue\n",
    "        \n",
    "        mses[subject] = pd.Series(mses_s, name=\"mse\")\n",
    "        \n",
    "    if mses:\n",
    "        pred_mses[model, int(run), int(step)] = pd.concat(mses, names=[\"subject\"])"
   ]
  },
  {
   "cell_type": "code",
   "execution_count": 144,
   "metadata": {},
   "outputs": [],
   "source": [
    "# Add original encoding MSEs.\n",
    "original_mses = {}\n",
    "for subject in subjects:\n",
    "    original_mses[subject] = pd.Series(np.linalg.norm(baseline_encoding - predictions[\"_\", \"None\", \"None\", subject], axis=1),\n",
    "                                       name=\"mse\")\n",
    "    pred_mses[\"_\", 0, 250] = pd.concat(mses, names=[\"subject\"])"
   ]
  },
  {
   "cell_type": "code",
   "execution_count": 145,
   "metadata": {},
   "outputs": [],
   "source": [
    "pred_mses = pd.DataFrame(pd.concat(pred_mses, names=[\"model\", \"run\", \"step\"])).sort_index()\n",
    "pred_mses.index.names = [\"model\", \"run\", \"step\", \"subject\", \"sentence\"]"
   ]
  },
  {
   "cell_type": "code",
   "execution_count": 146,
   "metadata": {},
   "outputs": [
    {
     "data": {
      "text/html": [
       "<div>\n",
       "<style scoped>\n",
       "    .dataframe tbody tr th:only-of-type {\n",
       "        vertical-align: middle;\n",
       "    }\n",
       "\n",
       "    .dataframe tbody tr th {\n",
       "        vertical-align: top;\n",
       "    }\n",
       "\n",
       "    .dataframe thead th {\n",
       "        text-align: right;\n",
       "    }\n",
       "</style>\n",
       "<table border=\"1\" class=\"dataframe\">\n",
       "  <thead>\n",
       "    <tr style=\"text-align: right;\">\n",
       "      <th></th>\n",
       "      <th></th>\n",
       "      <th></th>\n",
       "      <th></th>\n",
       "      <th></th>\n",
       "      <th>mse</th>\n",
       "    </tr>\n",
       "    <tr>\n",
       "      <th>model</th>\n",
       "      <th>run</th>\n",
       "      <th>step</th>\n",
       "      <th>subject</th>\n",
       "      <th>sentence</th>\n",
       "      <th></th>\n",
       "    </tr>\n",
       "  </thead>\n",
       "  <tbody>\n",
       "    <tr>\n",
       "      <th rowspan=\"5\" valign=\"top\">LM</th>\n",
       "      <th rowspan=\"5\" valign=\"top\">5</th>\n",
       "      <th rowspan=\"5\" valign=\"top\">250</th>\n",
       "      <th rowspan=\"5\" valign=\"top\">M02</th>\n",
       "      <th>0</th>\n",
       "      <td>1.095291</td>\n",
       "    </tr>\n",
       "    <tr>\n",
       "      <th>1</th>\n",
       "      <td>1.155759</td>\n",
       "    </tr>\n",
       "    <tr>\n",
       "      <th>2</th>\n",
       "      <td>1.240707</td>\n",
       "    </tr>\n",
       "    <tr>\n",
       "      <th>3</th>\n",
       "      <td>1.099487</td>\n",
       "    </tr>\n",
       "    <tr>\n",
       "      <th>4</th>\n",
       "      <td>0.994810</td>\n",
       "    </tr>\n",
       "  </tbody>\n",
       "</table>\n",
       "</div>"
      ],
      "text/plain": [
       "                                      mse\n",
       "model run step subject sentence          \n",
       "LM    5   250  M02     0         1.095291\n",
       "                       1         1.155759\n",
       "                       2         1.240707\n",
       "                       3         1.099487\n",
       "                       4         0.994810"
      ]
     },
     "execution_count": 146,
     "metadata": {},
     "output_type": "execute_result"
    }
   ],
   "source": [
    "pred_mses.head()"
   ]
  },
  {
   "cell_type": "code",
   "execution_count": 147,
   "metadata": {},
   "outputs": [],
   "source": [
    "first_mses = pred_mses.loc[pd.IndexSlice[\"_\", 0, 250, :, :], :]\n",
    "last_mses = pred_mses.loc[pd.IndexSlice[:, :, 250, :, :], :]"
   ]
  },
  {
   "cell_type": "code",
   "execution_count": 148,
   "metadata": {},
   "outputs": [],
   "source": [
    "first_mses.index = first_mses.index.droplevel((0, 1, 2))"
   ]
  },
  {
   "cell_type": "code",
   "execution_count": 149,
   "metadata": {},
   "outputs": [],
   "source": [
    "mse_diffs = last_mses.groupby([\"model\", \"run\", \"step\"]) \\\n",
    "    .apply(lambda xs: xs.reset_index(level=(0,1,2), drop=True) - first_mses)"
   ]
  },
  {
   "cell_type": "code",
   "execution_count": 150,
   "metadata": {},
   "outputs": [
    {
     "data": {
      "text/html": [
       "<div>\n",
       "<style scoped>\n",
       "    .dataframe tbody tr th:only-of-type {\n",
       "        vertical-align: middle;\n",
       "    }\n",
       "\n",
       "    .dataframe tbody tr th {\n",
       "        vertical-align: top;\n",
       "    }\n",
       "\n",
       "    .dataframe thead th {\n",
       "        text-align: right;\n",
       "    }\n",
       "</style>\n",
       "<table border=\"1\" class=\"dataframe\">\n",
       "  <thead>\n",
       "    <tr style=\"text-align: right;\">\n",
       "      <th></th>\n",
       "      <th></th>\n",
       "      <th></th>\n",
       "      <th></th>\n",
       "      <th></th>\n",
       "      <th>mse</th>\n",
       "    </tr>\n",
       "    <tr>\n",
       "      <th>model</th>\n",
       "      <th>run</th>\n",
       "      <th>step</th>\n",
       "      <th>subject</th>\n",
       "      <th>sentence</th>\n",
       "      <th></th>\n",
       "    </tr>\n",
       "  </thead>\n",
       "  <tbody>\n",
       "    <tr>\n",
       "      <th rowspan=\"5\" valign=\"top\">LM</th>\n",
       "      <th rowspan=\"5\" valign=\"top\">5</th>\n",
       "      <th rowspan=\"5\" valign=\"top\">250</th>\n",
       "      <th rowspan=\"5\" valign=\"top\">M02</th>\n",
       "      <th>0</th>\n",
       "      <td>0.158538</td>\n",
       "    </tr>\n",
       "    <tr>\n",
       "      <th>1</th>\n",
       "      <td>0.061520</td>\n",
       "    </tr>\n",
       "    <tr>\n",
       "      <th>2</th>\n",
       "      <td>0.154621</td>\n",
       "    </tr>\n",
       "    <tr>\n",
       "      <th>3</th>\n",
       "      <td>0.148930</td>\n",
       "    </tr>\n",
       "    <tr>\n",
       "      <th>4</th>\n",
       "      <td>-0.010163</td>\n",
       "    </tr>\n",
       "  </tbody>\n",
       "</table>\n",
       "</div>"
      ],
      "text/plain": [
       "                                      mse\n",
       "model run step subject sentence          \n",
       "LM    5   250  M02     0         0.158538\n",
       "                       1         0.061520\n",
       "                       2         0.154621\n",
       "                       3         0.148930\n",
       "                       4        -0.010163"
      ]
     },
     "execution_count": 150,
     "metadata": {},
     "output_type": "execute_result"
    }
   ],
   "source": [
    "mse_diffs.head()"
   ]
  },
  {
   "cell_type": "code",
   "execution_count": 151,
   "metadata": {},
   "outputs": [],
   "source": [
    "mse_diffs[\"abs_mse\"] = mse_diffs.mse.transform(np.abs)"
   ]
  },
  {
   "cell_type": "code",
   "execution_count": 152,
   "metadata": {},
   "outputs": [
    {
     "data": {
      "text/html": [
       "<div>\n",
       "<style scoped>\n",
       "    .dataframe tbody tr th:only-of-type {\n",
       "        vertical-align: middle;\n",
       "    }\n",
       "\n",
       "    .dataframe tbody tr th {\n",
       "        vertical-align: top;\n",
       "    }\n",
       "\n",
       "    .dataframe thead th {\n",
       "        text-align: right;\n",
       "    }\n",
       "</style>\n",
       "<table border=\"1\" class=\"dataframe\">\n",
       "  <thead>\n",
       "    <tr style=\"text-align: right;\">\n",
       "      <th></th>\n",
       "      <th></th>\n",
       "      <th></th>\n",
       "      <th></th>\n",
       "      <th></th>\n",
       "      <th>mse</th>\n",
       "      <th>abs_mse</th>\n",
       "    </tr>\n",
       "    <tr>\n",
       "      <th>model</th>\n",
       "      <th>run</th>\n",
       "      <th>step</th>\n",
       "      <th>subject</th>\n",
       "      <th>sentence</th>\n",
       "      <th></th>\n",
       "      <th></th>\n",
       "    </tr>\n",
       "  </thead>\n",
       "  <tbody>\n",
       "    <tr>\n",
       "      <th rowspan=\"5\" valign=\"top\">SST</th>\n",
       "      <th>4</th>\n",
       "      <th>250</th>\n",
       "      <th>M02</th>\n",
       "      <th>9</th>\n",
       "      <td>0.694041</td>\n",
       "      <td>0.694041</td>\n",
       "    </tr>\n",
       "    <tr>\n",
       "      <th>2</th>\n",
       "      <th>250</th>\n",
       "      <th>P01</th>\n",
       "      <th>273</th>\n",
       "      <td>0.686632</td>\n",
       "      <td>0.686632</td>\n",
       "    </tr>\n",
       "    <tr>\n",
       "      <th>6</th>\n",
       "      <th>250</th>\n",
       "      <th>M09</th>\n",
       "      <th>366</th>\n",
       "      <td>0.673520</td>\n",
       "      <td>0.673520</td>\n",
       "    </tr>\n",
       "    <tr>\n",
       "      <th>2</th>\n",
       "      <th>250</th>\n",
       "      <th>M07</th>\n",
       "      <th>59</th>\n",
       "      <td>0.665119</td>\n",
       "      <td>0.665119</td>\n",
       "    </tr>\n",
       "    <tr>\n",
       "      <th>5</th>\n",
       "      <th>250</th>\n",
       "      <th>P01</th>\n",
       "      <th>273</th>\n",
       "      <td>0.662398</td>\n",
       "      <td>0.662398</td>\n",
       "    </tr>\n",
       "    <tr>\n",
       "      <th>QQP</th>\n",
       "      <th>3</th>\n",
       "      <th>250</th>\n",
       "      <th>M09</th>\n",
       "      <th>380</th>\n",
       "      <td>0.659437</td>\n",
       "      <td>0.659437</td>\n",
       "    </tr>\n",
       "    <tr>\n",
       "      <th rowspan=\"15\" valign=\"top\">SST</th>\n",
       "      <th rowspan=\"2\" valign=\"top\">2</th>\n",
       "      <th rowspan=\"2\" valign=\"top\">250</th>\n",
       "      <th>M08</th>\n",
       "      <th>237</th>\n",
       "      <td>0.656601</td>\n",
       "      <td>0.656601</td>\n",
       "    </tr>\n",
       "    <tr>\n",
       "      <th>P01</th>\n",
       "      <th>364</th>\n",
       "      <td>0.651674</td>\n",
       "      <td>0.651674</td>\n",
       "    </tr>\n",
       "    <tr>\n",
       "      <th>6</th>\n",
       "      <th>250</th>\n",
       "      <th>M15</th>\n",
       "      <th>378</th>\n",
       "      <td>0.644869</td>\n",
       "      <td>0.644869</td>\n",
       "    </tr>\n",
       "    <tr>\n",
       "      <th>5</th>\n",
       "      <th>250</th>\n",
       "      <th>M15</th>\n",
       "      <th>378</th>\n",
       "      <td>0.643039</td>\n",
       "      <td>0.643039</td>\n",
       "    </tr>\n",
       "    <tr>\n",
       "      <th>2</th>\n",
       "      <th>250</th>\n",
       "      <th>M02</th>\n",
       "      <th>364</th>\n",
       "      <td>0.641376</td>\n",
       "      <td>0.641376</td>\n",
       "    </tr>\n",
       "    <tr>\n",
       "      <th>4</th>\n",
       "      <th>250</th>\n",
       "      <th>P01</th>\n",
       "      <th>77</th>\n",
       "      <td>0.641048</td>\n",
       "      <td>0.641048</td>\n",
       "    </tr>\n",
       "    <tr>\n",
       "      <th>7</th>\n",
       "      <th>250</th>\n",
       "      <th>M09</th>\n",
       "      <th>260</th>\n",
       "      <td>-0.637881</td>\n",
       "      <td>0.637881</td>\n",
       "    </tr>\n",
       "    <tr>\n",
       "      <th>2</th>\n",
       "      <th>250</th>\n",
       "      <th>M14</th>\n",
       "      <th>230</th>\n",
       "      <td>0.637744</td>\n",
       "      <td>0.637744</td>\n",
       "    </tr>\n",
       "    <tr>\n",
       "      <th>6</th>\n",
       "      <th>250</th>\n",
       "      <th>P01</th>\n",
       "      <th>364</th>\n",
       "      <td>0.632173</td>\n",
       "      <td>0.632173</td>\n",
       "    </tr>\n",
       "    <tr>\n",
       "      <th rowspan=\"3\" valign=\"top\">2</th>\n",
       "      <th rowspan=\"3\" valign=\"top\">250</th>\n",
       "      <th>M09</th>\n",
       "      <th>108</th>\n",
       "      <td>0.631803</td>\n",
       "      <td>0.631803</td>\n",
       "    </tr>\n",
       "    <tr>\n",
       "      <th>M04</th>\n",
       "      <th>273</th>\n",
       "      <td>0.630218</td>\n",
       "      <td>0.630218</td>\n",
       "    </tr>\n",
       "    <tr>\n",
       "      <th>M15</th>\n",
       "      <th>378</th>\n",
       "      <td>0.623119</td>\n",
       "      <td>0.623119</td>\n",
       "    </tr>\n",
       "    <tr>\n",
       "      <th>5</th>\n",
       "      <th>250</th>\n",
       "      <th>M09</th>\n",
       "      <th>274</th>\n",
       "      <td>0.621982</td>\n",
       "      <td>0.621982</td>\n",
       "    </tr>\n",
       "    <tr>\n",
       "      <th rowspan=\"2\" valign=\"top\">4</th>\n",
       "      <th rowspan=\"2\" valign=\"top\">250</th>\n",
       "      <th>M02</th>\n",
       "      <th>361</th>\n",
       "      <td>0.619940</td>\n",
       "      <td>0.619940</td>\n",
       "    </tr>\n",
       "    <tr>\n",
       "      <th>M15</th>\n",
       "      <th>144</th>\n",
       "      <td>0.619019</td>\n",
       "      <td>0.619019</td>\n",
       "    </tr>\n",
       "    <tr>\n",
       "      <th>SQuAD</th>\n",
       "      <th>6</th>\n",
       "      <th>250</th>\n",
       "      <th>M07</th>\n",
       "      <th>9</th>\n",
       "      <td>0.617519</td>\n",
       "      <td>0.617519</td>\n",
       "    </tr>\n",
       "    <tr>\n",
       "      <th rowspan=\"8\" valign=\"top\">SST</th>\n",
       "      <th>1</th>\n",
       "      <th>250</th>\n",
       "      <th>M15</th>\n",
       "      <th>144</th>\n",
       "      <td>0.615611</td>\n",
       "      <td>0.615611</td>\n",
       "    </tr>\n",
       "    <tr>\n",
       "      <th>5</th>\n",
       "      <th>250</th>\n",
       "      <th>M08</th>\n",
       "      <th>360</th>\n",
       "      <td>0.615234</td>\n",
       "      <td>0.615234</td>\n",
       "    </tr>\n",
       "    <tr>\n",
       "      <th>8</th>\n",
       "      <th>250</th>\n",
       "      <th>P01</th>\n",
       "      <th>364</th>\n",
       "      <td>0.607714</td>\n",
       "      <td>0.607714</td>\n",
       "    </tr>\n",
       "    <tr>\n",
       "      <th>5</th>\n",
       "      <th>250</th>\n",
       "      <th>P01</th>\n",
       "      <th>202</th>\n",
       "      <td>0.605658</td>\n",
       "      <td>0.605658</td>\n",
       "    </tr>\n",
       "    <tr>\n",
       "      <th>3</th>\n",
       "      <th>250</th>\n",
       "      <th>M09</th>\n",
       "      <th>108</th>\n",
       "      <td>0.602676</td>\n",
       "      <td>0.602676</td>\n",
       "    </tr>\n",
       "    <tr>\n",
       "      <th>2</th>\n",
       "      <th>250</th>\n",
       "      <th>M02</th>\n",
       "      <th>361</th>\n",
       "      <td>0.602180</td>\n",
       "      <td>0.602180</td>\n",
       "    </tr>\n",
       "    <tr>\n",
       "      <th>8</th>\n",
       "      <th>250</th>\n",
       "      <th>P01</th>\n",
       "      <th>273</th>\n",
       "      <td>0.601557</td>\n",
       "      <td>0.601557</td>\n",
       "    </tr>\n",
       "    <tr>\n",
       "      <th>3</th>\n",
       "      <th>250</th>\n",
       "      <th>M14</th>\n",
       "      <th>144</th>\n",
       "      <td>0.598281</td>\n",
       "      <td>0.598281</td>\n",
       "    </tr>\n",
       "    <tr>\n",
       "      <th>...</th>\n",
       "      <th>...</th>\n",
       "      <th>...</th>\n",
       "      <th>...</th>\n",
       "      <th>...</th>\n",
       "      <td>...</td>\n",
       "      <td>...</td>\n",
       "    </tr>\n",
       "    <tr>\n",
       "      <th rowspan=\"29\" valign=\"top\">LM_lmonly_scrambled</th>\n",
       "      <th rowspan=\"29\" valign=\"top\">8</th>\n",
       "      <th rowspan=\"29\" valign=\"top\">250</th>\n",
       "      <th rowspan=\"4\" valign=\"top\">M08</th>\n",
       "      <th>5</th>\n",
       "      <td>0.000000</td>\n",
       "      <td>0.000000</td>\n",
       "    </tr>\n",
       "    <tr>\n",
       "      <th>4</th>\n",
       "      <td>0.000000</td>\n",
       "      <td>0.000000</td>\n",
       "    </tr>\n",
       "    <tr>\n",
       "      <th>3</th>\n",
       "      <td>0.000000</td>\n",
       "      <td>0.000000</td>\n",
       "    </tr>\n",
       "    <tr>\n",
       "      <th>2</th>\n",
       "      <td>0.000000</td>\n",
       "      <td>0.000000</td>\n",
       "    </tr>\n",
       "    <tr>\n",
       "      <th rowspan=\"2\" valign=\"top\">M14</th>\n",
       "      <th>288</th>\n",
       "      <td>0.000000</td>\n",
       "      <td>0.000000</td>\n",
       "    </tr>\n",
       "    <tr>\n",
       "      <th>283</th>\n",
       "      <td>0.000000</td>\n",
       "      <td>0.000000</td>\n",
       "    </tr>\n",
       "    <tr>\n",
       "      <th>M08</th>\n",
       "      <th>18</th>\n",
       "      <td>0.000000</td>\n",
       "      <td>0.000000</td>\n",
       "    </tr>\n",
       "    <tr>\n",
       "      <th rowspan=\"2\" valign=\"top\">M14</th>\n",
       "      <th>279</th>\n",
       "      <td>0.000000</td>\n",
       "      <td>0.000000</td>\n",
       "    </tr>\n",
       "    <tr>\n",
       "      <th>281</th>\n",
       "      <td>0.000000</td>\n",
       "      <td>0.000000</td>\n",
       "    </tr>\n",
       "    <tr>\n",
       "      <th rowspan=\"2\" valign=\"top\">M08</th>\n",
       "      <th>36</th>\n",
       "      <td>0.000000</td>\n",
       "      <td>0.000000</td>\n",
       "    </tr>\n",
       "    <tr>\n",
       "      <th>35</th>\n",
       "      <td>0.000000</td>\n",
       "      <td>0.000000</td>\n",
       "    </tr>\n",
       "    <tr>\n",
       "      <th>M14</th>\n",
       "      <th>280</th>\n",
       "      <td>0.000000</td>\n",
       "      <td>0.000000</td>\n",
       "    </tr>\n",
       "    <tr>\n",
       "      <th rowspan=\"10\" valign=\"top\">M08</th>\n",
       "      <th>34</th>\n",
       "      <td>0.000000</td>\n",
       "      <td>0.000000</td>\n",
       "    </tr>\n",
       "    <tr>\n",
       "      <th>33</th>\n",
       "      <td>0.000000</td>\n",
       "      <td>0.000000</td>\n",
       "    </tr>\n",
       "    <tr>\n",
       "      <th>32</th>\n",
       "      <td>0.000000</td>\n",
       "      <td>0.000000</td>\n",
       "    </tr>\n",
       "    <tr>\n",
       "      <th>31</th>\n",
       "      <td>0.000000</td>\n",
       "      <td>0.000000</td>\n",
       "    </tr>\n",
       "    <tr>\n",
       "      <th>30</th>\n",
       "      <td>0.000000</td>\n",
       "      <td>0.000000</td>\n",
       "    </tr>\n",
       "    <tr>\n",
       "      <th>29</th>\n",
       "      <td>0.000000</td>\n",
       "      <td>0.000000</td>\n",
       "    </tr>\n",
       "    <tr>\n",
       "      <th>28</th>\n",
       "      <td>0.000000</td>\n",
       "      <td>0.000000</td>\n",
       "    </tr>\n",
       "    <tr>\n",
       "      <th>19</th>\n",
       "      <td>0.000000</td>\n",
       "      <td>0.000000</td>\n",
       "    </tr>\n",
       "    <tr>\n",
       "      <th>27</th>\n",
       "      <td>0.000000</td>\n",
       "      <td>0.000000</td>\n",
       "    </tr>\n",
       "    <tr>\n",
       "      <th>26</th>\n",
       "      <td>0.000000</td>\n",
       "      <td>0.000000</td>\n",
       "    </tr>\n",
       "    <tr>\n",
       "      <th>M14</th>\n",
       "      <th>282</th>\n",
       "      <td>0.000000</td>\n",
       "      <td>0.000000</td>\n",
       "    </tr>\n",
       "    <tr>\n",
       "      <th rowspan=\"6\" valign=\"top\">M08</th>\n",
       "      <th>25</th>\n",
       "      <td>0.000000</td>\n",
       "      <td>0.000000</td>\n",
       "    </tr>\n",
       "    <tr>\n",
       "      <th>24</th>\n",
       "      <td>0.000000</td>\n",
       "      <td>0.000000</td>\n",
       "    </tr>\n",
       "    <tr>\n",
       "      <th>23</th>\n",
       "      <td>0.000000</td>\n",
       "      <td>0.000000</td>\n",
       "    </tr>\n",
       "    <tr>\n",
       "      <th>22</th>\n",
       "      <td>0.000000</td>\n",
       "      <td>0.000000</td>\n",
       "    </tr>\n",
       "    <tr>\n",
       "      <th>21</th>\n",
       "      <td>0.000000</td>\n",
       "      <td>0.000000</td>\n",
       "    </tr>\n",
       "    <tr>\n",
       "      <th>20</th>\n",
       "      <td>0.000000</td>\n",
       "      <td>0.000000</td>\n",
       "    </tr>\n",
       "    <tr>\n",
       "      <th>_</th>\n",
       "      <th>0</th>\n",
       "      <th>250</th>\n",
       "      <th>P01</th>\n",
       "      <th>383</th>\n",
       "      <td>0.000000</td>\n",
       "      <td>0.000000</td>\n",
       "    </tr>\n",
       "  </tbody>\n",
       "</table>\n",
       "<p>218112 rows × 2 columns</p>\n",
       "</div>"
      ],
      "text/plain": [
       "                                                    mse   abs_mse\n",
       "model               run step subject sentence                    \n",
       "SST                 4   250  M02     9         0.694041  0.694041\n",
       "                    2   250  P01     273       0.686632  0.686632\n",
       "                    6   250  M09     366       0.673520  0.673520\n",
       "                    2   250  M07     59        0.665119  0.665119\n",
       "                    5   250  P01     273       0.662398  0.662398\n",
       "QQP                 3   250  M09     380       0.659437  0.659437\n",
       "SST                 2   250  M08     237       0.656601  0.656601\n",
       "                             P01     364       0.651674  0.651674\n",
       "                    6   250  M15     378       0.644869  0.644869\n",
       "                    5   250  M15     378       0.643039  0.643039\n",
       "                    2   250  M02     364       0.641376  0.641376\n",
       "                    4   250  P01     77        0.641048  0.641048\n",
       "                    7   250  M09     260      -0.637881  0.637881\n",
       "                    2   250  M14     230       0.637744  0.637744\n",
       "                    6   250  P01     364       0.632173  0.632173\n",
       "                    2   250  M09     108       0.631803  0.631803\n",
       "                             M04     273       0.630218  0.630218\n",
       "                             M15     378       0.623119  0.623119\n",
       "                    5   250  M09     274       0.621982  0.621982\n",
       "                    4   250  M02     361       0.619940  0.619940\n",
       "                             M15     144       0.619019  0.619019\n",
       "SQuAD               6   250  M07     9         0.617519  0.617519\n",
       "SST                 1   250  M15     144       0.615611  0.615611\n",
       "                    5   250  M08     360       0.615234  0.615234\n",
       "                    8   250  P01     364       0.607714  0.607714\n",
       "                    5   250  P01     202       0.605658  0.605658\n",
       "                    3   250  M09     108       0.602676  0.602676\n",
       "                    2   250  M02     361       0.602180  0.602180\n",
       "                    8   250  P01     273       0.601557  0.601557\n",
       "                    3   250  M14     144       0.598281  0.598281\n",
       "...                                                 ...       ...\n",
       "LM_lmonly_scrambled 8   250  M08     5         0.000000  0.000000\n",
       "                                     4         0.000000  0.000000\n",
       "                                     3         0.000000  0.000000\n",
       "                                     2         0.000000  0.000000\n",
       "                             M14     288       0.000000  0.000000\n",
       "                                     283       0.000000  0.000000\n",
       "                             M08     18        0.000000  0.000000\n",
       "                             M14     279       0.000000  0.000000\n",
       "                                     281       0.000000  0.000000\n",
       "                             M08     36        0.000000  0.000000\n",
       "                                     35        0.000000  0.000000\n",
       "                             M14     280       0.000000  0.000000\n",
       "                             M08     34        0.000000  0.000000\n",
       "                                     33        0.000000  0.000000\n",
       "                                     32        0.000000  0.000000\n",
       "                                     31        0.000000  0.000000\n",
       "                                     30        0.000000  0.000000\n",
       "                                     29        0.000000  0.000000\n",
       "                                     28        0.000000  0.000000\n",
       "                                     19        0.000000  0.000000\n",
       "                                     27        0.000000  0.000000\n",
       "                                     26        0.000000  0.000000\n",
       "                             M14     282       0.000000  0.000000\n",
       "                             M08     25        0.000000  0.000000\n",
       "                                     24        0.000000  0.000000\n",
       "                                     23        0.000000  0.000000\n",
       "                                     22        0.000000  0.000000\n",
       "                                     21        0.000000  0.000000\n",
       "                                     20        0.000000  0.000000\n",
       "_                   0   250  P01     383       0.000000  0.000000\n",
       "\n",
       "[218112 rows x 2 columns]"
      ]
     },
     "execution_count": 152,
     "metadata": {},
     "output_type": "execute_result"
    }
   ],
   "source": [
    "mse_diffs.sort_values(\"abs_mse\", ascending=False)"
   ]
  },
  {
   "cell_type": "markdown",
   "metadata": {},
   "source": [
    "### RSA in MSE diffs"
   ]
  },
  {
   "cell_type": "code",
   "execution_count": 172,
   "metadata": {},
   "outputs": [
    {
     "data": {
      "text/html": [
       "<div>\n",
       "<style scoped>\n",
       "    .dataframe tbody tr th:only-of-type {\n",
       "        vertical-align: middle;\n",
       "    }\n",
       "\n",
       "    .dataframe tbody tr th {\n",
       "        vertical-align: top;\n",
       "    }\n",
       "\n",
       "    .dataframe thead th {\n",
       "        text-align: right;\n",
       "    }\n",
       "</style>\n",
       "<table border=\"1\" class=\"dataframe\">\n",
       "  <thead>\n",
       "    <tr style=\"text-align: right;\">\n",
       "      <th>sentence</th>\n",
       "      <th>0</th>\n",
       "      <th>1</th>\n",
       "      <th>2</th>\n",
       "      <th>3</th>\n",
       "      <th>4</th>\n",
       "      <th>5</th>\n",
       "      <th>6</th>\n",
       "      <th>7</th>\n",
       "      <th>8</th>\n",
       "      <th>9</th>\n",
       "      <th>...</th>\n",
       "      <th>374</th>\n",
       "      <th>375</th>\n",
       "      <th>376</th>\n",
       "      <th>377</th>\n",
       "      <th>378</th>\n",
       "      <th>379</th>\n",
       "      <th>380</th>\n",
       "      <th>381</th>\n",
       "      <th>382</th>\n",
       "      <th>383</th>\n",
       "    </tr>\n",
       "    <tr>\n",
       "      <th>model</th>\n",
       "      <th></th>\n",
       "      <th></th>\n",
       "      <th></th>\n",
       "      <th></th>\n",
       "      <th></th>\n",
       "      <th></th>\n",
       "      <th></th>\n",
       "      <th></th>\n",
       "      <th></th>\n",
       "      <th></th>\n",
       "      <th></th>\n",
       "      <th></th>\n",
       "      <th></th>\n",
       "      <th></th>\n",
       "      <th></th>\n",
       "      <th></th>\n",
       "      <th></th>\n",
       "      <th></th>\n",
       "      <th></th>\n",
       "      <th></th>\n",
       "      <th></th>\n",
       "    </tr>\n",
       "  </thead>\n",
       "  <tbody>\n",
       "    <tr>\n",
       "      <th>LM</th>\n",
       "      <td>0.083000</td>\n",
       "      <td>0.056588</td>\n",
       "      <td>0.044436</td>\n",
       "      <td>0.074014</td>\n",
       "      <td>0.061741</td>\n",
       "      <td>0.058982</td>\n",
       "      <td>0.075457</td>\n",
       "      <td>0.072057</td>\n",
       "      <td>0.055810</td>\n",
       "      <td>0.151042</td>\n",
       "      <td>...</td>\n",
       "      <td>0.053130</td>\n",
       "      <td>0.061852</td>\n",
       "      <td>0.048525</td>\n",
       "      <td>0.040809</td>\n",
       "      <td>0.066444</td>\n",
       "      <td>0.056421</td>\n",
       "      <td>0.073946</td>\n",
       "      <td>0.044174</td>\n",
       "      <td>0.044761</td>\n",
       "      <td>0.043002</td>\n",
       "    </tr>\n",
       "    <tr>\n",
       "      <th>LM_contentonly</th>\n",
       "      <td>0.076744</td>\n",
       "      <td>0.054388</td>\n",
       "      <td>0.037007</td>\n",
       "      <td>0.056081</td>\n",
       "      <td>0.058329</td>\n",
       "      <td>0.053146</td>\n",
       "      <td>0.068292</td>\n",
       "      <td>0.064711</td>\n",
       "      <td>0.049711</td>\n",
       "      <td>0.122000</td>\n",
       "      <td>...</td>\n",
       "      <td>0.050509</td>\n",
       "      <td>0.040921</td>\n",
       "      <td>0.054515</td>\n",
       "      <td>0.042412</td>\n",
       "      <td>0.054581</td>\n",
       "      <td>0.045144</td>\n",
       "      <td>0.069684</td>\n",
       "      <td>0.044598</td>\n",
       "      <td>0.040987</td>\n",
       "      <td>0.045379</td>\n",
       "    </tr>\n",
       "    <tr>\n",
       "      <th>LM_contentonly_scrambled</th>\n",
       "      <td>0.059538</td>\n",
       "      <td>0.070037</td>\n",
       "      <td>0.048742</td>\n",
       "      <td>0.070998</td>\n",
       "      <td>0.050678</td>\n",
       "      <td>0.051543</td>\n",
       "      <td>0.050066</td>\n",
       "      <td>0.057898</td>\n",
       "      <td>0.046423</td>\n",
       "      <td>0.069417</td>\n",
       "      <td>...</td>\n",
       "      <td>0.040899</td>\n",
       "      <td>0.039678</td>\n",
       "      <td>0.046089</td>\n",
       "      <td>0.050964</td>\n",
       "      <td>0.042663</td>\n",
       "      <td>0.065216</td>\n",
       "      <td>0.056900</td>\n",
       "      <td>0.030916</td>\n",
       "      <td>0.030681</td>\n",
       "      <td>0.037390</td>\n",
       "    </tr>\n",
       "    <tr>\n",
       "      <th>LM_lmonly</th>\n",
       "      <td>0.071229</td>\n",
       "      <td>0.062073</td>\n",
       "      <td>0.045457</td>\n",
       "      <td>0.067925</td>\n",
       "      <td>0.065775</td>\n",
       "      <td>0.064158</td>\n",
       "      <td>0.085805</td>\n",
       "      <td>0.069676</td>\n",
       "      <td>0.049618</td>\n",
       "      <td>0.142827</td>\n",
       "      <td>...</td>\n",
       "      <td>0.065706</td>\n",
       "      <td>0.053179</td>\n",
       "      <td>0.051743</td>\n",
       "      <td>0.045879</td>\n",
       "      <td>0.056828</td>\n",
       "      <td>0.062683</td>\n",
       "      <td>0.082861</td>\n",
       "      <td>0.045968</td>\n",
       "      <td>0.055285</td>\n",
       "      <td>0.057297</td>\n",
       "    </tr>\n",
       "    <tr>\n",
       "      <th>LM_lmonly_scrambled</th>\n",
       "      <td>0.039389</td>\n",
       "      <td>0.062004</td>\n",
       "      <td>0.041151</td>\n",
       "      <td>0.049486</td>\n",
       "      <td>0.031805</td>\n",
       "      <td>0.033330</td>\n",
       "      <td>0.036573</td>\n",
       "      <td>0.044344</td>\n",
       "      <td>0.036714</td>\n",
       "      <td>0.044758</td>\n",
       "      <td>...</td>\n",
       "      <td>0.037802</td>\n",
       "      <td>0.045386</td>\n",
       "      <td>0.048287</td>\n",
       "      <td>0.037555</td>\n",
       "      <td>0.048891</td>\n",
       "      <td>0.045910</td>\n",
       "      <td>0.035252</td>\n",
       "      <td>0.023775</td>\n",
       "      <td>0.028223</td>\n",
       "      <td>0.039432</td>\n",
       "    </tr>\n",
       "  </tbody>\n",
       "</table>\n",
       "<p>5 rows × 384 columns</p>\n",
       "</div>"
      ],
      "text/plain": [
       "sentence                       0         1         2         3         4    \\\n",
       "model                                                                        \n",
       "LM                        0.083000  0.056588  0.044436  0.074014  0.061741   \n",
       "LM_contentonly            0.076744  0.054388  0.037007  0.056081  0.058329   \n",
       "LM_contentonly_scrambled  0.059538  0.070037  0.048742  0.070998  0.050678   \n",
       "LM_lmonly                 0.071229  0.062073  0.045457  0.067925  0.065775   \n",
       "LM_lmonly_scrambled       0.039389  0.062004  0.041151  0.049486  0.031805   \n",
       "\n",
       "sentence                       5         6         7         8         9    \\\n",
       "model                                                                        \n",
       "LM                        0.058982  0.075457  0.072057  0.055810  0.151042   \n",
       "LM_contentonly            0.053146  0.068292  0.064711  0.049711  0.122000   \n",
       "LM_contentonly_scrambled  0.051543  0.050066  0.057898  0.046423  0.069417   \n",
       "LM_lmonly                 0.064158  0.085805  0.069676  0.049618  0.142827   \n",
       "LM_lmonly_scrambled       0.033330  0.036573  0.044344  0.036714  0.044758   \n",
       "\n",
       "sentence                    ...          374       375       376       377  \\\n",
       "model                       ...                                              \n",
       "LM                          ...     0.053130  0.061852  0.048525  0.040809   \n",
       "LM_contentonly              ...     0.050509  0.040921  0.054515  0.042412   \n",
       "LM_contentonly_scrambled    ...     0.040899  0.039678  0.046089  0.050964   \n",
       "LM_lmonly                   ...     0.065706  0.053179  0.051743  0.045879   \n",
       "LM_lmonly_scrambled         ...     0.037802  0.045386  0.048287  0.037555   \n",
       "\n",
       "sentence                       378       379       380       381       382  \\\n",
       "model                                                                        \n",
       "LM                        0.066444  0.056421  0.073946  0.044174  0.044761   \n",
       "LM_contentonly            0.054581  0.045144  0.069684  0.044598  0.040987   \n",
       "LM_contentonly_scrambled  0.042663  0.065216  0.056900  0.030916  0.030681   \n",
       "LM_lmonly                 0.056828  0.062683  0.082861  0.045968  0.055285   \n",
       "LM_lmonly_scrambled       0.048891  0.045910  0.035252  0.023775  0.028223   \n",
       "\n",
       "sentence                       383  \n",
       "model                               \n",
       "LM                        0.043002  \n",
       "LM_contentonly            0.045379  \n",
       "LM_contentonly_scrambled  0.037390  \n",
       "LM_lmonly                 0.057297  \n",
       "LM_lmonly_scrambled       0.039432  \n",
       "\n",
       "[5 rows x 384 columns]"
      ]
     },
     "execution_count": 172,
     "metadata": {},
     "output_type": "execute_result"
    }
   ],
   "source": [
    "avg_mse_diffs = mse_diffs.groupby([\"model\"]).apply(lambda xs: xs.groupby(\"sentence\").abs_mse.mean())\n",
    "avg_mse_diffs.head()"
   ]
  },
  {
   "cell_type": "code",
   "execution_count": 197,
   "metadata": {},
   "outputs": [],
   "source": [
    "mse_corrs = {}\n",
    "for pair in itertools.combinations(avg_mse_diffs.index, 2):\n",
    "    mse_corrs[pair], _ = st.pearsonr(avg_mse_diffs.loc[pair[0]], avg_mse_diffs.loc[pair[1]])"
   ]
  },
  {
   "cell_type": "code",
   "execution_count": 198,
   "metadata": {},
   "outputs": [],
   "source": [
    "heatmap = np.zeros((len(bert_models), len(bert_models)))\n",
    "for i, model1 in enumerate(bert_models):\n",
    "    for j, model2 in enumerate(bert_models):\n",
    "            \n",
    "        try:\n",
    "            heatmap[i, j] = mse_corrs[model1, model2]\n",
    "        except:\n",
    "            heatmap[i, j] = mse_corrs.get((model2, model1), 1.0)"
   ]
  },
  {
   "cell_type": "code",
   "execution_count": 199,
   "metadata": {},
   "outputs": [
    {
     "data": {
      "text/plain": [
       "Text(0.5,1,'Correlation in sentence MSE diffs')"
      ]
     },
     "execution_count": 199,
     "metadata": {},
     "output_type": "execute_result"
    },
    {
     "data": {
      "image/png": "[encoded data removed]",
      "text/plain": [
       "<Figure size 432x288 with 2 Axes>"
      ]
     },
     "metadata": {
      "needs_background": "light"
     },
     "output_type": "display_data"
    }
   ],
   "source": [
    "heatmap = pd.DataFrame(heatmap, index=bert_models, columns=bert_models)\n",
    "sns.heatmap(data=heatmap, annot=True)\n",
    "plt.title(\"Correlation in sentence MSE diffs\")"
   ]
  },
  {
   "cell_type": "markdown",
   "metadata": {},
   "source": [
    "### RSA analysis"
   ]
  },
  {
   "cell_type": "code",
   "execution_count": 171,
   "metadata": {},
   "outputs": [
    {
     "name": "stderr",
     "output_type": "stream",
     "text": [
      "100%|██████████| 2701/2701 [01:02<00:00, 44.14it/s]\n"
     ]
    }
   ],
   "source": [
    "rsa_inputs = {(model, run, step): enc for (model, run, step), enc in encodings.items()\n",
    "              if int(step) == steps[-1]}\n",
    "rsa_sims = rsa_encodings(rsa_inputs, collapse_fn=lambda key: key[0])"
   ]
  },
  {
   "cell_type": "code",
   "execution_count": 191,
   "metadata": {},
   "outputs": [
    {
     "data": {
      "text/plain": [
       "model1                    model2                  \n",
       "LM                        LM                          0.981311\n",
       "                          LM_contentonly              0.950049\n",
       "                          LM_contentonly_scrambled    0.915102\n",
       "                          LM_lmonly                   0.963033\n",
       "                          LM_lmonly_scrambled         0.901257\n",
       "                          LM_scrambled                0.898324\n",
       "LM_contentonly            LM_contentonly              0.982328\n",
       "                          LM_contentonly_scrambled    0.945681\n",
       "                          LM_lmonly                   0.947291\n",
       "                          LM_lmonly_scrambled         0.927460\n",
       "                          LM_scrambled                0.924837\n",
       "LM_contentonly_scrambled  LM_contentonly_scrambled    0.982744\n",
       "                          LM_lmonly_scrambled         0.958643\n",
       "LM_lmonly                 LM_contentonly_scrambled    0.910497\n",
       "                          LM_lmonly                   0.979546\n",
       "                          LM_lmonly_scrambled         0.900873\n",
       "                          LM_scrambled                0.896595\n",
       "LM_lmonly_scrambled       LM_lmonly_scrambled         0.982846\n",
       "LM_scrambled              LM_contentonly_scrambled    0.957677\n",
       "                          LM_lmonly_scrambled         0.972224\n",
       "                          LM_scrambled                0.984217\n",
       "MNLI                      LM                          0.693392\n",
       "                          LM_contentonly              0.694793\n",
       "                          LM_contentonly_scrambled    0.674612\n",
       "                          LM_lmonly                   0.693908\n",
       "                          LM_lmonly_scrambled         0.665953\n",
       "                          LM_scrambled                0.662420\n",
       "                          MNLI                        0.764822\n",
       "                          QQP                         0.646692\n",
       "                          SQuAD                       0.571622\n",
       "                          SST                         0.512525\n",
       "QQP                       LM                          0.804740\n",
       "                          LM_contentonly              0.799131\n",
       "                          LM_contentonly_scrambled    0.782143\n",
       "                          LM_lmonly                   0.799202\n",
       "                          LM_lmonly_scrambled         0.775863\n",
       "                          LM_scrambled                0.770976\n",
       "                          QQP                         0.774701\n",
       "                          SQuAD                       0.599193\n",
       "                          SST                         0.447085\n",
       "SQuAD                     LM                          0.653130\n",
       "                          LM_contentonly              0.627140\n",
       "                          LM_contentonly_scrambled    0.587470\n",
       "                          LM_lmonly                   0.645625\n",
       "                          LM_lmonly_scrambled         0.568923\n",
       "                          LM_scrambled                0.557493\n",
       "                          SQuAD                       0.773476\n",
       "SST                       LM                          0.478002\n",
       "                          LM_contentonly              0.482961\n",
       "                          LM_contentonly_scrambled    0.476838\n",
       "                          LM_lmonly                   0.481949\n",
       "                          LM_lmonly_scrambled         0.480611\n",
       "                          LM_scrambled                0.479109\n",
       "                          SQuAD                       0.346308\n",
       "                          SST                         0.839715\n",
       "Name: spearmanr, dtype: float64"
      ]
     },
     "execution_count": 191,
     "metadata": {},
     "output_type": "execute_result"
    }
   ],
   "source": [
    "rsa_sims_avg = rsa_sims.groupby([\"model1\", \"model2\"]).spearmanr.mean()\n",
    "rsa_sims_avg"
   ]
  },
  {
   "cell_type": "code",
   "execution_count": 192,
   "metadata": {},
   "outputs": [],
   "source": [
    "heatmap = np.zeros((len(bert_models), len(bert_models)))\n",
    "for i, model1 in enumerate(bert_models):\n",
    "    for j, model2 in enumerate(bert_models):\n",
    "            \n",
    "        try:\n",
    "            heatmap[i, j] = rsa_sims_avg[model1, model2]\n",
    "        except:\n",
    "            heatmap[i, j] = rsa_sims_avg.get((model2, model1), 1.0)"
   ]
  },
  {
   "cell_type": "code",
   "execution_count": 193,
   "metadata": {},
   "outputs": [
    {
     "data": {
      "text/plain": [
       "<matplotlib.axes._subplots.AxesSubplot at 0x2ac27a0b5dd8>"
      ]
     },
     "execution_count": 193,
     "metadata": {},
     "output_type": "execute_result"
    },
    {
     "data": {
      "image/png": "[encoded data removed]",
      "text/plain": [
       "<Figure size 432x288 with 2 Axes>"
      ]
     },
     "metadata": {
      "needs_background": "light"
     },
     "output_type": "display_data"
    }
   ],
   "source": [
    "heatmap = pd.DataFrame(heatmap, index=bert_models, columns=bert_models)\n",
    "sns.heatmap(data=heatmap, annot=True)"
   ]
  }
 ],
 "metadata": {
  "kernelspec": {
   "display_name": "Python 3",
   "language": "python",
   "name": "python3"
  },
  "language_info": {
   "codemirror_mode": {
    "name": "ipython",
    "version": 3
   },
   "file_extension": ".py",
   "mimetype": "text/x-python",
   "name": "python",
   "nbconvert_exporter": "python",
   "pygments_lexer": "ipython3",
   "version": "3.6.8"
  }
 },
 "nbformat": 4,
 "nbformat_minor": 2
}
