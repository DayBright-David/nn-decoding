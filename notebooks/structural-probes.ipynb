{
 "cells": [
  {
   "cell_type": "code",
   "execution_count": null,
   "metadata": {},
   "outputs": [],
   "source": [
    "from functools import partial\n",
    "import itertools\n",
    "import json\n",
    "from pathlib import Path\n",
    "import re\n",
    "import sys\n",
    "sys.path.append(\"../src\")\n",
    "\n",
    "import matplotlib\n",
    "import matplotlib.pyplot as plt\n",
    "import numpy as np\n",
    "import pandas as pd\n",
    "import seaborn as sns\n",
    "import statsmodels.formula.api as smf\n",
    "from tqdm import tqdm, tqdm_notebook\n",
    "\n",
    "%matplotlib inline\n",
    "sns.set(style=\"whitegrid\", context=\"paper\", font_scale=3.5, rc={\"lines.linewidth\": 2.5})\n",
    "from IPython.display import set_matplotlib_formats\n",
    "set_matplotlib_formats('png')\n",
    "#set_matplotlib_formats('svg')\n",
    "\n",
    "%load_ext autoreload\n",
    "%autoreload 2\n",
    "import util"
   ]
  },
  {
   "cell_type": "markdown",
   "metadata": {},
   "source": [
    "## Data preparation"
   ]
  },
  {
   "cell_type": "code",
   "execution_count": null,
   "metadata": {},
   "outputs": [],
   "source": [
    "output_path = Path(\"../output\")\n",
    "bert_encoding_path = output_path / \"encodings\"\n",
    "sprobe_results_path = output_path / \"structural-probe\""
   ]
  },
  {
   "cell_type": "code",
   "execution_count": null,
   "metadata": {},
   "outputs": [],
   "source": [
    "checkpoints = [util.get_encoding_ckpt_id(dir_entry) for dir_entry in bert_encoding_path.iterdir()]"
   ]
  },
  {
   "cell_type": "code",
   "execution_count": null,
   "metadata": {},
   "outputs": [],
   "source": [
    "models = [model for model, _, _ in checkpoints]\n",
    "\n",
    "baseline_model = \"baseline\"\n",
    "if baseline_model not in models:\n",
    "    raise ValueError(\"Missing baseline model. This is necessary to compute performance deltas in the analysis of fine-tuning models. Stop.\")\n",
    "\n",
    "standard_models = [model for model in models if not model.startswith(\"LM_\") and not model == baseline_model]\n",
    "custom_models = [model for model in models if model.startswith(\"LM_\") and not model == baseline_model]\n",
    "\n",
    "runs = sorted(set(run for _, run, _ in checkpoints))\n",
    "checkpoint_steps = sorted(set(step for _, _, step in checkpoints))\n",
    "\n",
    "# Models which should appear in the final report figures\n",
    "report_models = [\"SQuAD\", \"QQP\", \"MNLI\", \"SST\", \"LM\", \"LM_scrambled\", \"LM_scrambled_para\", \"LM_pos\", \"glove\"]\n",
    "\n",
    "# Model subsets to render in different report figures\n",
    "report_model_sets = [\n",
    "    (\"all\", set(report_models)),\n",
    "    (\"standard\", set(report_models) & set(standard_models)),\n",
    "    (\"custom\", set(report_models) & set(custom_models)),\n",
    "]\n",
    "report_model_sets = [(name, model_set) for name, model_set in report_model_sets\n",
    "                     if len(model_set) > 0]"
   ]
  },
  {
   "cell_type": "code",
   "execution_count": null,
   "metadata": {},
   "outputs": [],
   "source": [
    "RENDER_FINAL = True\n",
    "figure_path = Path(\"../reports/figures\")\n",
    "figure_path.mkdir(exist_ok=True)\n",
    "\n",
    "report_hues = dict(zip(sorted(report_models), sns.color_palette()))"
   ]
  },
  {
   "cell_type": "markdown",
   "metadata": {},
   "source": [
    "## Collect results"
   ]
  },
  {
   "cell_type": "code",
   "execution_count": null,
   "metadata": {},
   "outputs": [],
   "source": [
    "eval_results = {}\n",
    "for eval_dir in tqdm_notebook(list(sprobe_results_path.iterdir())):\n",
    "    if not eval_dir.is_dir(): continue\n",
    "    model, run, step = util.get_encoding_ckpt_id(eval_dir)\n",
    "    \n",
    "    try:\n",
    "        uuas_file = list(eval_dir.glob(\"**/dev.uuas\"))[0]\n",
    "        with uuas_file.open(\"r\") as f:\n",
    "            uuas = float(f.read().strip())\n",
    "    except: continue\n",
    "        \n",
    "    try:\n",
    "        spearman_file = list(eval_dir.glob(\"**/dev.spearmanr-*-mean\"))[0]\n",
    "        with spearman_file.open(\"r\") as f:\n",
    "            spearman = float(f.read().strip())\n",
    "    except: continue\n",
    "        \n",
    "    eval_results[model, run, step] = pd.Series({\"uuas\": uuas, \"spearman\": spearman})"
   ]
  },
  {
   "cell_type": "markdown",
   "metadata": {},
   "source": [
    "### Add non-BERT results"
   ]
  },
  {
   "cell_type": "code",
   "execution_count": null,
   "metadata": {},
   "outputs": [],
   "source": [
    "nonbert_models = []"
   ]
  },
  {
   "cell_type": "code",
   "execution_count": null,
   "metadata": {},
   "outputs": [],
   "source": [
    "# GloVe\n",
    "# for glove_dir in tqdm_notebook(list(sprobe_glove_path.glob(\"*\"))):\n",
    "#     if not glove_dir.is_dir(): continue\n",
    "#     model = glove_dir.name\n",
    "    \n",
    "#     try:\n",
    "#         uuas_file = list(glove_dir.glob(\"**/dev.uuas\"))[0]\n",
    "#         with uuas_file.open(\"r\") as f:\n",
    "#             uuas = float(f.read().strip())\n",
    "#     except: continue\n",
    "        \n",
    "#     try:\n",
    "#         spearman_file = list(glove_dir.glob(\"**/dev.spearmanr-*-mean\"))[0]\n",
    "#         with spearman_file.open(\"r\") as f:\n",
    "#             spearman = float(f.read().strip())\n",
    "#     except: continue\n",
    "        \n",
    "#     nonbert_models.append(model)\n",
    "#     eval_results[model, 1, 250, 0] = pd.Series({\"uuas\": uuas, \"spearman\": spearman})"
   ]
  },
  {
   "cell_type": "markdown",
   "metadata": {},
   "source": [
    "### Aggregate"
   ]
  },
  {
   "cell_type": "code",
   "execution_count": null,
   "metadata": {},
   "outputs": [],
   "source": [
    "eval_results = pd.DataFrame(pd.concat(eval_results, names=[\"model\", \"run\", \"step\", \"metric\"]))"
   ]
  },
  {
   "cell_type": "code",
   "execution_count": null,
   "metadata": {},
   "outputs": [],
   "source": [
    "eval_results.tail(20)"
   ]
  },
  {
   "cell_type": "code",
   "execution_count": null,
   "metadata": {},
   "outputs": [],
   "source": [
    "# Only use spaCy results\n",
    "nonbert_models_to_graph = [(\"spaCy-en_vectors_web_lg\", \"GloVe\")]\n",
    "nonbert_models_to_graph = [(name, label) for name, label in nonbert_models_to_graph if name in nonbert_models]"
   ]
  },
  {
   "cell_type": "markdown",
   "metadata": {},
   "source": [
    "## Graph"
   ]
  },
  {
   "cell_type": "code",
   "execution_count": null,
   "metadata": {},
   "outputs": [],
   "source": [
    "graph_data = eval_results.reset_index()\n",
    "graph_data = graph_data[~graph_data.model.isin(nonbert_models + [baseline_model])]"
   ]
  },
  {
   "cell_type": "code",
   "execution_count": null,
   "metadata": {},
   "outputs": [],
   "source": [
    "g = sns.FacetGrid(data=graph_data, col=\"metric\", height=7, sharex=True, sharey=True)\n",
    "g.map(sns.lineplot, \"step\", 0, \"model\")\n",
    "\n",
    "for uuas_ax in g.axes[:, 0]:\n",
    "    for nonbert_model, label in nonbert_models_to_graph:\n",
    "        uuas_ax.axhline(eval_results.loc[nonbert_model, 1, 250, 0, \"uuas\"][0], linestyle='--', label=label)\n",
    "for spearman_ax in g.axes[:, 1]:\n",
    "    for nonbert_model, label in nonbert_models_to_graph:\n",
    "        spearman_ax.axhline(eval_results.loc[nonbert_model, 1, 250, 0, \"spearman\"][0], linestyle='--', label=label)\n",
    "        \n",
    "g.add_legend()\n",
    "g"
   ]
  },
  {
   "cell_type": "code",
   "execution_count": null,
   "metadata": {},
   "outputs": [],
   "source": [
    "g = sns.FacetGrid(data=graph_data, col=\"metric\", row=\"model\", height=7, sharex=True, sharey=True)\n",
    "g.map(sns.lineplot, \"step\", 0).add_legend()"
   ]
  },
  {
   "cell_type": "code",
   "execution_count": null,
   "metadata": {},
   "outputs": [],
   "source": [
    "%matplotlib agg\n",
    "\n",
    "if RENDER_FINAL:\n",
    "    dir = figure_path / \"structural_probe\"\n",
    "    dir.mkdir(exist_ok=True)\n",
    "    \n",
    "    for metric, label in [(\"uuas\", \"UUAS\"), (\"spearman\", \"Spearman correlation\")]:\n",
    "        fig = plt.figure(figsize=(15, 9))\n",
    "        ax = sns.lineplot(data=graph_data[(graph_data.metric == metric)], x=\"step\", y=0,\n",
    "                          hue=\"model\", palette=report_hues)\n",
    "        for nonbert_model, nonbert_label in nonbert_models_to_graph:\n",
    "            ax.axhline(eval_results.loc[nonbert_model, 1, 0, metric][0],\n",
    "                       linestyle='--', label=nonbert_label, linewidth=3)\n",
    "            \n",
    "        plt.legend(loc=\"center left\", bbox_to_anchor=(1, 0.5))\n",
    "        plt.xlim((0, checkpoint_steps[-1]))\n",
    "        plt.ylabel(label)\n",
    "        plt.xlabel(\"Training step\")\n",
    "        plt.tight_layout()\n",
    "        plt.savefig(dir / (\"%s.pdf\" % metric))\n",
    "        plt.close()\n",
    "    \n",
    "%matplotlib inline"
   ]
  }
 ],
 "metadata": {
  "kernelspec": {
   "display_name": "Python 3",
   "language": "python",
   "name": "python3"
  },
  "language_info": {
   "codemirror_mode": {
    "name": "ipython",
    "version": 3
   },
   "file_extension": ".py",
   "mimetype": "text/x-python",
   "name": "python",
   "nbconvert_exporter": "python",
   "pygments_lexer": "ipython3",
   "version": "3.6.8"
  }
 },
 "nbformat": 4,
 "nbformat_minor": 2
}
