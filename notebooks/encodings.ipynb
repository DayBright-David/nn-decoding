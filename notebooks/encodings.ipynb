{
 "cells": [
  {
   "cell_type": "code",
   "execution_count": 91,
   "metadata": {},
   "outputs": [
    {
     "name": "stdout",
     "output_type": "stream",
     "text": [
      "The autoreload extension is already loaded. To reload it, use:\n",
      "  %reload_ext autoreload\n"
     ]
    }
   ],
   "source": [
    "from collections import defaultdict\n",
    "import itertools\n",
    "from pathlib import Path\n",
    "import re\n",
    "import sys\n",
    "\n",
    "%matplotlib inline\n",
    "import matplotlib.pyplot as plt\n",
    "import numpy as np\n",
    "import pandas as pd\n",
    "import seaborn as sns\n",
    "import scipy.io\n",
    "from scipy import stats as st\n",
    "from tqdm import tqdm_notebook\n",
    "sns.set_style(\"whitegrid\")\n",
    "\n",
    "%load_ext autoreload\n",
    "%autoreload 2\n",
    "\n",
    "sys.path.append(\"../src\")\n",
    "import util"
   ]
  },
  {
   "cell_type": "code",
   "execution_count": 92,
   "metadata": {},
   "outputs": [],
   "source": [
    "decoder_path = Path(\"../models/decoders\")\n",
    "bert_encoding_path = Path(\"../models/bert\")\n",
    "sentences_path = Path(\"../data/sentences/stimuli_384sentences.txt\")\n",
    "brains_path = Path(\"../data/brains\")\n",
    "\n",
    "bert_base_model = \"uncased_L-12_H-768_A-12\"\n",
    "finetune_desc = \"finetune-250\""
   ]
  },
  {
   "cell_type": "code",
   "execution_count": 93,
   "metadata": {},
   "outputs": [],
   "source": [
    "#bert_models = [\"MNLI\", \"QQP\", \"SST\", \"SQuAD\", \"LM\", \"LM_contentonly\", \"LM_lmonly\", \"LM_scrambled\", \"LM_contentonly_scrambled\", \"LM_lmonly_scrambled\"]\n",
    "bert_models = [\"SQuAD\", \"LM\", \"LM_scrambled\"]\n",
    "subjects = [\"M02\", \"M04\", \"M07\", \"M08\", \"M09\", \"M14\", \"M15\", \"P01\"]\n",
    "target_runs = [1, 2, 3, 4, 5, 6, 7, 8]\n",
    "steps = list(range(5, 255, 5))"
   ]
  },
  {
   "cell_type": "code",
   "execution_count": 94,
   "metadata": {},
   "outputs": [],
   "source": [
    "PCA_DIM = 256"
   ]
  },
  {
   "cell_type": "code",
   "execution_count": 95,
   "metadata": {},
   "outputs": [
    {
     "data": {
      "application/vnd.jupyter.widget-view+json": {
       "model_id": "1197d2a65e704a3aa1c87226cf3a6bdc",
       "version_major": 2,
       "version_minor": 0
      },
      "text/plain": [
       "HBox(children=(IntProgress(value=0, description='Loading model runs', max=24, style=ProgressStyle(description_…"
      ]
     },
     "metadata": {},
     "output_type": "display_data"
    },
    {
     "data": {
      "application/vnd.jupyter.widget-view+json": {
       "model_id": "",
       "version_major": 2,
       "version_minor": 0
      },
      "text/plain": [
       "HBox(children=(IntProgress(value=0, description='steps', max=50, style=ProgressStyle(description_width='initia…"
      ]
     },
     "metadata": {},
     "output_type": "display_data"
    },
    {
     "data": {
      "application/vnd.jupyter.widget-view+json": {
       "model_id": "",
       "version_major": 2,
       "version_minor": 0
      },
      "text/plain": [
       "HBox(children=(IntProgress(value=0, description='steps', max=50, style=ProgressStyle(description_width='initia…"
      ]
     },
     "metadata": {},
     "output_type": "display_data"
    },
    {
     "data": {
      "application/vnd.jupyter.widget-view+json": {
       "model_id": "",
       "version_major": 2,
       "version_minor": 0
      },
      "text/plain": [
       "HBox(children=(IntProgress(value=0, description='steps', max=50, style=ProgressStyle(description_width='initia…"
      ]
     },
     "metadata": {},
     "output_type": "display_data"
    },
    {
     "data": {
      "application/vnd.jupyter.widget-view+json": {
       "model_id": "",
       "version_major": 2,
       "version_minor": 0
      },
      "text/plain": [
       "HBox(children=(IntProgress(value=0, description='steps', max=50, style=ProgressStyle(description_width='initia…"
      ]
     },
     "metadata": {},
     "output_type": "display_data"
    },
    {
     "data": {
      "application/vnd.jupyter.widget-view+json": {
       "model_id": "",
       "version_major": 2,
       "version_minor": 0
      },
      "text/plain": [
       "HBox(children=(IntProgress(value=0, description='steps', max=50, style=ProgressStyle(description_width='initia…"
      ]
     },
     "metadata": {},
     "output_type": "display_data"
    },
    {
     "data": {
      "application/vnd.jupyter.widget-view+json": {
       "model_id": "",
       "version_major": 2,
       "version_minor": 0
      },
      "text/plain": [
       "HBox(children=(IntProgress(value=0, description='steps', max=50, style=ProgressStyle(description_width='initia…"
      ]
     },
     "metadata": {},
     "output_type": "display_data"
    },
    {
     "data": {
      "application/vnd.jupyter.widget-view+json": {
       "model_id": "",
       "version_major": 2,
       "version_minor": 0
      },
      "text/plain": [
       "HBox(children=(IntProgress(value=0, description='steps', max=50, style=ProgressStyle(description_width='initia…"
      ]
     },
     "metadata": {},
     "output_type": "display_data"
    },
    {
     "data": {
      "application/vnd.jupyter.widget-view+json": {
       "model_id": "",
       "version_major": 2,
       "version_minor": 0
      },
      "text/plain": [
       "HBox(children=(IntProgress(value=0, description='steps', max=50, style=ProgressStyle(description_width='initia…"
      ]
     },
     "metadata": {},
     "output_type": "display_data"
    },
    {
     "data": {
      "application/vnd.jupyter.widget-view+json": {
       "model_id": "",
       "version_major": 2,
       "version_minor": 0
      },
      "text/plain": [
       "HBox(children=(IntProgress(value=0, description='steps', max=50, style=ProgressStyle(description_width='initia…"
      ]
     },
     "metadata": {},
     "output_type": "display_data"
    },
    {
     "data": {
      "application/vnd.jupyter.widget-view+json": {
       "model_id": "",
       "version_major": 2,
       "version_minor": 0
      },
      "text/plain": [
       "HBox(children=(IntProgress(value=0, description='steps', max=50, style=ProgressStyle(description_width='initia…"
      ]
     },
     "metadata": {},
     "output_type": "display_data"
    },
    {
     "data": {
      "application/vnd.jupyter.widget-view+json": {
       "model_id": "",
       "version_major": 2,
       "version_minor": 0
      },
      "text/plain": [
       "HBox(children=(IntProgress(value=0, description='steps', max=50, style=ProgressStyle(description_width='initia…"
      ]
     },
     "metadata": {},
     "output_type": "display_data"
    },
    {
     "data": {
      "application/vnd.jupyter.widget-view+json": {
       "model_id": "",
       "version_major": 2,
       "version_minor": 0
      },
      "text/plain": [
       "HBox(children=(IntProgress(value=0, description='steps', max=50, style=ProgressStyle(description_width='initia…"
      ]
     },
     "metadata": {},
     "output_type": "display_data"
    },
    {
     "data": {
      "application/vnd.jupyter.widget-view+json": {
       "model_id": "",
       "version_major": 2,
       "version_minor": 0
      },
      "text/plain": [
       "HBox(children=(IntProgress(value=0, description='steps', max=50, style=ProgressStyle(description_width='initia…"
      ]
     },
     "metadata": {},
     "output_type": "display_data"
    },
    {
     "data": {
      "application/vnd.jupyter.widget-view+json": {
       "model_id": "",
       "version_major": 2,
       "version_minor": 0
      },
      "text/plain": [
       "HBox(children=(IntProgress(value=0, description='steps', max=50, style=ProgressStyle(description_width='initia…"
      ]
     },
     "metadata": {},
     "output_type": "display_data"
    },
    {
     "data": {
      "application/vnd.jupyter.widget-view+json": {
       "model_id": "",
       "version_major": 2,
       "version_minor": 0
      },
      "text/plain": [
       "HBox(children=(IntProgress(value=0, description='steps', max=50, style=ProgressStyle(description_width='initia…"
      ]
     },
     "metadata": {},
     "output_type": "display_data"
    },
    {
     "data": {
      "application/vnd.jupyter.widget-view+json": {
       "model_id": "",
       "version_major": 2,
       "version_minor": 0
      },
      "text/plain": [
       "HBox(children=(IntProgress(value=0, description='steps', max=50, style=ProgressStyle(description_width='initia…"
      ]
     },
     "metadata": {},
     "output_type": "display_data"
    },
    {
     "data": {
      "application/vnd.jupyter.widget-view+json": {
       "model_id": "",
       "version_major": 2,
       "version_minor": 0
      },
      "text/plain": [
       "HBox(children=(IntProgress(value=0, description='steps', max=50, style=ProgressStyle(description_width='initia…"
      ]
     },
     "metadata": {},
     "output_type": "display_data"
    },
    {
     "data": {
      "application/vnd.jupyter.widget-view+json": {
       "model_id": "",
       "version_major": 2,
       "version_minor": 0
      },
      "text/plain": [
       "HBox(children=(IntProgress(value=0, description='steps', max=50, style=ProgressStyle(description_width='initia…"
      ]
     },
     "metadata": {},
     "output_type": "display_data"
    },
    {
     "data": {
      "application/vnd.jupyter.widget-view+json": {
       "model_id": "",
       "version_major": 2,
       "version_minor": 0
      },
      "text/plain": [
       "HBox(children=(IntProgress(value=0, description='steps', max=50, style=ProgressStyle(description_width='initia…"
      ]
     },
     "metadata": {},
     "output_type": "display_data"
    },
    {
     "data": {
      "application/vnd.jupyter.widget-view+json": {
       "model_id": "",
       "version_major": 2,
       "version_minor": 0
      },
      "text/plain": [
       "HBox(children=(IntProgress(value=0, description='steps', max=50, style=ProgressStyle(description_width='initia…"
      ]
     },
     "metadata": {},
     "output_type": "display_data"
    },
    {
     "data": {
      "application/vnd.jupyter.widget-view+json": {
       "model_id": "",
       "version_major": 2,
       "version_minor": 0
      },
      "text/plain": [
       "HBox(children=(IntProgress(value=0, description='steps', max=50, style=ProgressStyle(description_width='initia…"
      ]
     },
     "metadata": {},
     "output_type": "display_data"
    },
    {
     "data": {
      "application/vnd.jupyter.widget-view+json": {
       "model_id": "",
       "version_major": 2,
       "version_minor": 0
      },
      "text/plain": [
       "HBox(children=(IntProgress(value=0, description='steps', max=50, style=ProgressStyle(description_width='initia…"
      ]
     },
     "metadata": {},
     "output_type": "display_data"
    },
    {
     "data": {
      "application/vnd.jupyter.widget-view+json": {
       "model_id": "",
       "version_major": 2,
       "version_minor": 0
      },
      "text/plain": [
       "HBox(children=(IntProgress(value=0, description='steps', max=50, style=ProgressStyle(description_width='initia…"
      ]
     },
     "metadata": {},
     "output_type": "display_data"
    },
    {
     "data": {
      "application/vnd.jupyter.widget-view+json": {
       "model_id": "",
       "version_major": 2,
       "version_minor": 0
      },
      "text/plain": [
       "HBox(children=(IntProgress(value=0, description='steps', max=50, style=ProgressStyle(description_width='initia…"
      ]
     },
     "metadata": {},
     "output_type": "display_data"
    },
    {
     "name": "stdout",
     "output_type": "stream",
     "text": [
      "\n"
     ]
    }
   ],
   "source": [
    "# Load model encoding data.\n",
    "encodings = {}\n",
    "for model, run in tqdm_notebook(list(itertools.product(bert_models, target_runs)), desc=\"Loading model runs\"):\n",
    "    encoding_glob = \"encodings.%s.%s.%s-run%i-*.npy\" % (finetune_desc, bert_base_model, model, run)\n",
    "    for encoding_path in tqdm_notebook(list(bert_encoding_path.glob(encoding_glob)), desc=\"steps\", leave=False):\n",
    "        step = int(re.findall(r\"-(\\d+)\\.npy$\", encoding_path.name)[0])\n",
    "        if step not in [steps[0], steps[-1]]:\n",
    "            continue\n",
    "\n",
    "        try:\n",
    "            encodings[model, run, step] = util.load_encodings([encoding_path], project=PCA_DIM)\n",
    "        except FileNotFoundError:\n",
    "            continue"
   ]
  },
  {
   "cell_type": "code",
   "execution_count": 96,
   "metadata": {},
   "outputs": [],
   "source": [
    "# Load pretrained model encodings.\n",
    "encoding_path = bert_encoding_path / (\"encodings.%s.npy\" % (bert_base_model))\n",
    "baseline_encoding = util.load_encodings([encoding_path], project=PCA_DIM)"
   ]
  },
  {
   "cell_type": "markdown",
   "metadata": {},
   "source": [
    "## Sentence divergences"
   ]
  },
  {
   "cell_type": "code",
   "execution_count": 97,
   "metadata": {},
   "outputs": [],
   "source": [
    "divergences = defaultdict(list)\n",
    "for (model, run, step), m_encodings in encodings.items():\n",
    "    if step != steps[-1]: continue\n",
    "    divergences[model].append(np.linalg.norm(m_encodings - baseline_encoding, axis=1))"
   ]
  },
  {
   "cell_type": "code",
   "execution_count": 98,
   "metadata": {},
   "outputs": [],
   "source": [
    "divergences = {k: pd.DataFrame(np.stack(v).T).rename(columns=lambda r: \"run_%i\" % r) for k, v in divergences.items()}"
   ]
  },
  {
   "cell_type": "code",
   "execution_count": 99,
   "metadata": {},
   "outputs": [
    {
     "name": "stderr",
     "output_type": "stream",
     "text": [
      "/opt/conda/lib/python3.6/site-packages/ipykernel_launcher.py:1: FutureWarning: Sorting because non-concatenation axis is not aligned. A future version\n",
      "of pandas will change to not sort by default.\n",
      "\n",
      "To accept the future behavior, pass 'sort=False'.\n",
      "\n",
      "To retain the current behavior and silence the warning, pass 'sort=True'.\n",
      "\n",
      "  \"\"\"Entry point for launching an IPython kernel.\n"
     ]
    },
    {
     "data": {
      "text/html": [
       "<div>\n",
       "<style scoped>\n",
       "    .dataframe tbody tr th:only-of-type {\n",
       "        vertical-align: middle;\n",
       "    }\n",
       "\n",
       "    .dataframe tbody tr th {\n",
       "        vertical-align: top;\n",
       "    }\n",
       "\n",
       "    .dataframe thead th {\n",
       "        text-align: right;\n",
       "    }\n",
       "</style>\n",
       "<table border=\"1\" class=\"dataframe\">\n",
       "  <thead>\n",
       "    <tr style=\"text-align: right;\">\n",
       "      <th></th>\n",
       "      <th></th>\n",
       "      <th>run_0</th>\n",
       "      <th>run_1</th>\n",
       "      <th>run_2</th>\n",
       "      <th>run_3</th>\n",
       "      <th>run_4</th>\n",
       "      <th>run_5</th>\n",
       "      <th>run_6</th>\n",
       "      <th>run_7</th>\n",
       "    </tr>\n",
       "    <tr>\n",
       "      <th>model</th>\n",
       "      <th>sentence</th>\n",
       "      <th></th>\n",
       "      <th></th>\n",
       "      <th></th>\n",
       "      <th></th>\n",
       "      <th></th>\n",
       "      <th></th>\n",
       "      <th></th>\n",
       "      <th></th>\n",
       "    </tr>\n",
       "  </thead>\n",
       "  <tbody>\n",
       "    <tr>\n",
       "      <th rowspan=\"5\" valign=\"top\">LM</th>\n",
       "      <th>0</th>\n",
       "      <td>7.494736</td>\n",
       "      <td>6.348477</td>\n",
       "      <td>7.357879</td>\n",
       "      <td>5.701009</td>\n",
       "      <td>7.338653</td>\n",
       "      <td>7.768169</td>\n",
       "      <td>9.255251</td>\n",
       "      <td>5.833636</td>\n",
       "    </tr>\n",
       "    <tr>\n",
       "      <th>1</th>\n",
       "      <td>7.168331</td>\n",
       "      <td>8.213109</td>\n",
       "      <td>7.908254</td>\n",
       "      <td>7.727065</td>\n",
       "      <td>7.234612</td>\n",
       "      <td>7.219440</td>\n",
       "      <td>9.781015</td>\n",
       "      <td>7.688496</td>\n",
       "    </tr>\n",
       "    <tr>\n",
       "      <th>2</th>\n",
       "      <td>8.212467</td>\n",
       "      <td>8.613698</td>\n",
       "      <td>8.541066</td>\n",
       "      <td>7.972699</td>\n",
       "      <td>7.665820</td>\n",
       "      <td>7.715042</td>\n",
       "      <td>8.866532</td>\n",
       "      <td>8.231302</td>\n",
       "    </tr>\n",
       "    <tr>\n",
       "      <th>3</th>\n",
       "      <td>7.758420</td>\n",
       "      <td>9.397472</td>\n",
       "      <td>8.759999</td>\n",
       "      <td>7.236808</td>\n",
       "      <td>8.552815</td>\n",
       "      <td>8.255716</td>\n",
       "      <td>9.909550</td>\n",
       "      <td>8.622805</td>\n",
       "    </tr>\n",
       "    <tr>\n",
       "      <th>4</th>\n",
       "      <td>10.170087</td>\n",
       "      <td>9.181191</td>\n",
       "      <td>10.922810</td>\n",
       "      <td>8.464636</td>\n",
       "      <td>9.508505</td>\n",
       "      <td>9.920853</td>\n",
       "      <td>10.671535</td>\n",
       "      <td>8.967173</td>\n",
       "    </tr>\n",
       "  </tbody>\n",
       "</table>\n",
       "</div>"
      ],
      "text/plain": [
       "                    run_0     run_1      run_2     run_3     run_4     run_5  \\\n",
       "model sentence                                                                 \n",
       "LM    0          7.494736  6.348477   7.357879  5.701009  7.338653  7.768169   \n",
       "      1          7.168331  8.213109   7.908254  7.727065  7.234612  7.219440   \n",
       "      2          8.212467  8.613698   8.541066  7.972699  7.665820  7.715042   \n",
       "      3          7.758420  9.397472   8.759999  7.236808  8.552815  8.255716   \n",
       "      4         10.170087  9.181191  10.922810  8.464636  9.508505  9.920853   \n",
       "\n",
       "                    run_6     run_7  \n",
       "model sentence                       \n",
       "LM    0          9.255251  5.833636  \n",
       "      1          9.781015  7.688496  \n",
       "      2          8.866532  8.231302  \n",
       "      3          9.909550  8.622805  \n",
       "      4         10.671535  8.967173  "
      ]
     },
     "execution_count": 99,
     "metadata": {},
     "output_type": "execute_result"
    }
   ],
   "source": [
    "divergences = pd.concat(divergences).sort_index()\n",
    "divergences.index.names = [\"model\", \"sentence\"]\n",
    "divergences.head()"
   ]
  },
  {
   "cell_type": "code",
   "execution_count": 100,
   "metadata": {},
   "outputs": [
    {
     "data": {
      "text/html": [
       "<div>\n",
       "<style scoped>\n",
       "    .dataframe tbody tr th:only-of-type {\n",
       "        vertical-align: middle;\n",
       "    }\n",
       "\n",
       "    .dataframe tbody tr th {\n",
       "        vertical-align: top;\n",
       "    }\n",
       "\n",
       "    .dataframe thead th {\n",
       "        text-align: right;\n",
       "    }\n",
       "</style>\n",
       "<table border=\"1\" class=\"dataframe\">\n",
       "  <thead>\n",
       "    <tr style=\"text-align: right;\">\n",
       "      <th></th>\n",
       "      <th>model</th>\n",
       "      <th>sentence</th>\n",
       "      <th>run</th>\n",
       "      <th>dist</th>\n",
       "    </tr>\n",
       "  </thead>\n",
       "  <tbody>\n",
       "    <tr>\n",
       "      <th>0</th>\n",
       "      <td>LM</td>\n",
       "      <td>0</td>\n",
       "      <td>run_0</td>\n",
       "      <td>7.494736</td>\n",
       "    </tr>\n",
       "    <tr>\n",
       "      <th>1</th>\n",
       "      <td>LM</td>\n",
       "      <td>1</td>\n",
       "      <td>run_0</td>\n",
       "      <td>7.168331</td>\n",
       "    </tr>\n",
       "    <tr>\n",
       "      <th>2</th>\n",
       "      <td>LM</td>\n",
       "      <td>2</td>\n",
       "      <td>run_0</td>\n",
       "      <td>8.212467</td>\n",
       "    </tr>\n",
       "    <tr>\n",
       "      <th>3</th>\n",
       "      <td>LM</td>\n",
       "      <td>3</td>\n",
       "      <td>run_0</td>\n",
       "      <td>7.758420</td>\n",
       "    </tr>\n",
       "    <tr>\n",
       "      <th>4</th>\n",
       "      <td>LM</td>\n",
       "      <td>4</td>\n",
       "      <td>run_0</td>\n",
       "      <td>10.170087</td>\n",
       "    </tr>\n",
       "  </tbody>\n",
       "</table>\n",
       "</div>"
      ],
      "text/plain": [
       "  model  sentence    run       dist\n",
       "0    LM         0  run_0   7.494736\n",
       "1    LM         1  run_0   7.168331\n",
       "2    LM         2  run_0   8.212467\n",
       "3    LM         3  run_0   7.758420\n",
       "4    LM         4  run_0  10.170087"
      ]
     },
     "execution_count": 100,
     "metadata": {},
     "output_type": "execute_result"
    }
   ],
   "source": [
    "divergences = pd.melt(divergences.reset_index(), id_vars=[\"model\", \"sentence\"], var_name=\"run\", value_name=\"dist\")\n",
    "divergences.head()"
   ]
  },
  {
   "cell_type": "code",
   "execution_count": 101,
   "metadata": {},
   "outputs": [],
   "source": [
    "# Normalize by average sentence divergence per run.\n",
    "div_ranges = divergences.groupby([\"model\", \"run\"]).dist.agg([\"min\", \"max\"])\n",
    "divergences = divergences.set_index([\"model\", \"run\"]).sort_index()\n",
    "divergences[\"dist_norm\"] = (divergences.dist - div_ranges[\"min\"]) / (div_ranges[\"max\"] - div_ranges[\"min\"])\n",
    "divergences = divergences.reset_index()"
   ]
  },
  {
   "cell_type": "code",
   "execution_count": 102,
   "metadata": {},
   "outputs": [
    {
     "data": {
      "text/html": [
       "<div>\n",
       "<style scoped>\n",
       "    .dataframe tbody tr th:only-of-type {\n",
       "        vertical-align: middle;\n",
       "    }\n",
       "\n",
       "    .dataframe tbody tr th {\n",
       "        vertical-align: top;\n",
       "    }\n",
       "\n",
       "    .dataframe thead th {\n",
       "        text-align: right;\n",
       "    }\n",
       "</style>\n",
       "<table border=\"1\" class=\"dataframe\">\n",
       "  <thead>\n",
       "    <tr style=\"text-align: right;\">\n",
       "      <th></th>\n",
       "      <th>model</th>\n",
       "      <th>run</th>\n",
       "      <th>sentence</th>\n",
       "      <th>dist</th>\n",
       "      <th>dist_norm</th>\n",
       "    </tr>\n",
       "  </thead>\n",
       "  <tbody>\n",
       "    <tr>\n",
       "      <th>0</th>\n",
       "      <td>LM</td>\n",
       "      <td>run_0</td>\n",
       "      <td>0</td>\n",
       "      <td>7.494736</td>\n",
       "      <td>0.286150</td>\n",
       "    </tr>\n",
       "    <tr>\n",
       "      <th>1</th>\n",
       "      <td>LM</td>\n",
       "      <td>run_0</td>\n",
       "      <td>1</td>\n",
       "      <td>7.168331</td>\n",
       "      <td>0.238632</td>\n",
       "    </tr>\n",
       "    <tr>\n",
       "      <th>2</th>\n",
       "      <td>LM</td>\n",
       "      <td>run_0</td>\n",
       "      <td>2</td>\n",
       "      <td>8.212467</td>\n",
       "      <td>0.390636</td>\n",
       "    </tr>\n",
       "    <tr>\n",
       "      <th>3</th>\n",
       "      <td>LM</td>\n",
       "      <td>run_0</td>\n",
       "      <td>3</td>\n",
       "      <td>7.758420</td>\n",
       "      <td>0.324537</td>\n",
       "    </tr>\n",
       "    <tr>\n",
       "      <th>4</th>\n",
       "      <td>LM</td>\n",
       "      <td>run_0</td>\n",
       "      <td>4</td>\n",
       "      <td>10.170087</td>\n",
       "      <td>0.675624</td>\n",
       "    </tr>\n",
       "  </tbody>\n",
       "</table>\n",
       "</div>"
      ],
      "text/plain": [
       "  model    run  sentence       dist  dist_norm\n",
       "0    LM  run_0         0   7.494736   0.286150\n",
       "1    LM  run_0         1   7.168331   0.238632\n",
       "2    LM  run_0         2   8.212467   0.390636\n",
       "3    LM  run_0         3   7.758420   0.324537\n",
       "4    LM  run_0         4  10.170087   0.675624"
      ]
     },
     "execution_count": 102,
     "metadata": {},
     "output_type": "execute_result"
    }
   ],
   "source": [
    "divergences.head()"
   ]
  },
  {
   "cell_type": "code",
   "execution_count": 103,
   "metadata": {},
   "outputs": [
    {
     "data": {
      "text/html": [
       "<div>\n",
       "<style scoped>\n",
       "    .dataframe tbody tr th:only-of-type {\n",
       "        vertical-align: middle;\n",
       "    }\n",
       "\n",
       "    .dataframe tbody tr th {\n",
       "        vertical-align: top;\n",
       "    }\n",
       "\n",
       "    .dataframe thead th {\n",
       "        text-align: right;\n",
       "    }\n",
       "</style>\n",
       "<table border=\"1\" class=\"dataframe\">\n",
       "  <thead>\n",
       "    <tr style=\"text-align: right;\">\n",
       "      <th>model</th>\n",
       "      <th>LM</th>\n",
       "      <th>LM_scrambled</th>\n",
       "      <th>SQuAD</th>\n",
       "    </tr>\n",
       "    <tr>\n",
       "      <th>sentence</th>\n",
       "      <th></th>\n",
       "      <th></th>\n",
       "      <th></th>\n",
       "    </tr>\n",
       "  </thead>\n",
       "  <tbody>\n",
       "    <tr>\n",
       "      <th>0</th>\n",
       "      <td>0.239921</td>\n",
       "      <td>0.153455</td>\n",
       "      <td>0.381667</td>\n",
       "    </tr>\n",
       "    <tr>\n",
       "      <th>1</th>\n",
       "      <td>0.358050</td>\n",
       "      <td>0.295605</td>\n",
       "      <td>0.398559</td>\n",
       "    </tr>\n",
       "    <tr>\n",
       "      <th>2</th>\n",
       "      <td>0.414423</td>\n",
       "      <td>0.331747</td>\n",
       "      <td>0.371983</td>\n",
       "    </tr>\n",
       "    <tr>\n",
       "      <th>3</th>\n",
       "      <td>0.467778</td>\n",
       "      <td>0.453131</td>\n",
       "      <td>0.504142</td>\n",
       "    </tr>\n",
       "    <tr>\n",
       "      <th>4</th>\n",
       "      <td>0.655663</td>\n",
       "      <td>0.434289</td>\n",
       "      <td>0.835330</td>\n",
       "    </tr>\n",
       "  </tbody>\n",
       "</table>\n",
       "</div>"
      ],
      "text/plain": [
       "model           LM  LM_scrambled     SQuAD\n",
       "sentence                                  \n",
       "0         0.239921      0.153455  0.381667\n",
       "1         0.358050      0.295605  0.398559\n",
       "2         0.414423      0.331747  0.371983\n",
       "3         0.467778      0.453131  0.504142\n",
       "4         0.655663      0.434289  0.835330"
      ]
     },
     "execution_count": 103,
     "metadata": {},
     "output_type": "execute_result"
    }
   ],
   "source": [
    "mean_div = divergences.groupby(\"sentence\").apply(lambda xs: xs.groupby(\"model\").dist_norm.agg(\"mean\"))\n",
    "mean_div.head()"
   ]
  },
  {
   "cell_type": "code",
   "execution_count": 104,
   "metadata": {},
   "outputs": [
    {
     "data": {
      "text/html": [
       "<div>\n",
       "<style scoped>\n",
       "    .dataframe tbody tr th:only-of-type {\n",
       "        vertical-align: middle;\n",
       "    }\n",
       "\n",
       "    .dataframe tbody tr th {\n",
       "        vertical-align: top;\n",
       "    }\n",
       "\n",
       "    .dataframe thead th {\n",
       "        text-align: right;\n",
       "    }\n",
       "</style>\n",
       "<table border=\"1\" class=\"dataframe\">\n",
       "  <thead>\n",
       "    <tr style=\"text-align: right;\">\n",
       "      <th>model</th>\n",
       "      <th>LM</th>\n",
       "      <th>LM_scrambled</th>\n",
       "      <th>SQuAD</th>\n",
       "      <th>max_dist</th>\n",
       "    </tr>\n",
       "    <tr>\n",
       "      <th>sentence</th>\n",
       "      <th></th>\n",
       "      <th></th>\n",
       "      <th></th>\n",
       "      <th></th>\n",
       "    </tr>\n",
       "  </thead>\n",
       "  <tbody>\n",
       "    <tr>\n",
       "      <th>222</th>\n",
       "      <td>0.864077</td>\n",
       "      <td>0.957880</td>\n",
       "      <td>0.935247</td>\n",
       "      <td>0.957880</td>\n",
       "    </tr>\n",
       "    <tr>\n",
       "      <th>352</th>\n",
       "      <td>0.766478</td>\n",
       "      <td>0.891088</td>\n",
       "      <td>0.917092</td>\n",
       "      <td>0.917092</td>\n",
       "    </tr>\n",
       "    <tr>\n",
       "      <th>351</th>\n",
       "      <td>0.910969</td>\n",
       "      <td>0.785840</td>\n",
       "      <td>0.904788</td>\n",
       "      <td>0.910969</td>\n",
       "    </tr>\n",
       "    <tr>\n",
       "      <th>355</th>\n",
       "      <td>0.619102</td>\n",
       "      <td>0.877666</td>\n",
       "      <td>0.666609</td>\n",
       "      <td>0.877666</td>\n",
       "    </tr>\n",
       "    <tr>\n",
       "      <th>4</th>\n",
       "      <td>0.655663</td>\n",
       "      <td>0.434289</td>\n",
       "      <td>0.835330</td>\n",
       "      <td>0.835330</td>\n",
       "    </tr>\n",
       "    <tr>\n",
       "      <th>113</th>\n",
       "      <td>0.649254</td>\n",
       "      <td>0.827200</td>\n",
       "      <td>0.635019</td>\n",
       "      <td>0.827200</td>\n",
       "    </tr>\n",
       "    <tr>\n",
       "      <th>114</th>\n",
       "      <td>0.615328</td>\n",
       "      <td>0.823906</td>\n",
       "      <td>0.579975</td>\n",
       "      <td>0.823906</td>\n",
       "    </tr>\n",
       "    <tr>\n",
       "      <th>243</th>\n",
       "      <td>0.662052</td>\n",
       "      <td>0.432777</td>\n",
       "      <td>0.817361</td>\n",
       "      <td>0.817361</td>\n",
       "    </tr>\n",
       "    <tr>\n",
       "      <th>232</th>\n",
       "      <td>0.797211</td>\n",
       "      <td>0.802403</td>\n",
       "      <td>0.805779</td>\n",
       "      <td>0.805779</td>\n",
       "    </tr>\n",
       "    <tr>\n",
       "      <th>219</th>\n",
       "      <td>0.753075</td>\n",
       "      <td>0.641438</td>\n",
       "      <td>0.804945</td>\n",
       "      <td>0.804945</td>\n",
       "    </tr>\n",
       "    <tr>\n",
       "      <th>72</th>\n",
       "      <td>0.604936</td>\n",
       "      <td>0.433511</td>\n",
       "      <td>0.790662</td>\n",
       "      <td>0.790662</td>\n",
       "    </tr>\n",
       "    <tr>\n",
       "      <th>290</th>\n",
       "      <td>0.765738</td>\n",
       "      <td>0.753019</td>\n",
       "      <td>0.785016</td>\n",
       "      <td>0.785016</td>\n",
       "    </tr>\n",
       "    <tr>\n",
       "      <th>52</th>\n",
       "      <td>0.570806</td>\n",
       "      <td>0.506768</td>\n",
       "      <td>0.774433</td>\n",
       "      <td>0.774433</td>\n",
       "    </tr>\n",
       "    <tr>\n",
       "      <th>309</th>\n",
       "      <td>0.769056</td>\n",
       "      <td>0.552325</td>\n",
       "      <td>0.643369</td>\n",
       "      <td>0.769056</td>\n",
       "    </tr>\n",
       "    <tr>\n",
       "      <th>154</th>\n",
       "      <td>0.414658</td>\n",
       "      <td>0.639940</td>\n",
       "      <td>0.768301</td>\n",
       "      <td>0.768301</td>\n",
       "    </tr>\n",
       "  </tbody>\n",
       "</table>\n",
       "</div>"
      ],
      "text/plain": [
       "model           LM  LM_scrambled     SQuAD  max_dist\n",
       "sentence                                            \n",
       "222       0.864077      0.957880  0.935247  0.957880\n",
       "352       0.766478      0.891088  0.917092  0.917092\n",
       "351       0.910969      0.785840  0.904788  0.910969\n",
       "355       0.619102      0.877666  0.666609  0.877666\n",
       "4         0.655663      0.434289  0.835330  0.835330\n",
       "113       0.649254      0.827200  0.635019  0.827200\n",
       "114       0.615328      0.823906  0.579975  0.823906\n",
       "243       0.662052      0.432777  0.817361  0.817361\n",
       "232       0.797211      0.802403  0.805779  0.805779\n",
       "219       0.753075      0.641438  0.804945  0.804945\n",
       "72        0.604936      0.433511  0.790662  0.790662\n",
       "290       0.765738      0.753019  0.785016  0.785016\n",
       "52        0.570806      0.506768  0.774433  0.774433\n",
       "309       0.769056      0.552325  0.643369  0.769056\n",
       "154       0.414658      0.639940  0.768301  0.768301"
      ]
     },
     "execution_count": 104,
     "metadata": {},
     "output_type": "execute_result"
    }
   ],
   "source": [
    "mean_div[\"max_dist\"] = mean_div.apply(lambda ks: ks.max(), axis=1)\n",
    "mean_div = mean_div.sort_values(\"max_dist\", ascending=False)\n",
    "mean_div.head(15)"
   ]
  },
  {
   "cell_type": "code",
   "execution_count": 105,
   "metadata": {},
   "outputs": [
    {
     "data": {
      "text/plain": [
       "<matplotlib.axes._subplots.AxesSubplot at 0x2b560a7d2c50>"
      ]
     },
     "execution_count": 105,
     "metadata": {},
     "output_type": "execute_result"
    },
    {
     "data": {
      "image/png": "[encoded data removed]",
      "text/plain": [
       "<Figure size 432x288 with 1 Axes>"
      ]
     },
     "metadata": {},
     "output_type": "display_data"
    }
   ],
   "source": [
    "sns.scatterplot(x=\"LM\", y=\"LM_scrambled\", data=mean_div)"
   ]
  },
  {
   "cell_type": "code",
   "execution_count": 107,
   "metadata": {},
   "outputs": [
    {
     "data": {
      "text/plain": [
       "<matplotlib.axes._subplots.AxesSubplot at 0x2b560a73f390>"
      ]
     },
     "execution_count": 107,
     "metadata": {},
     "output_type": "execute_result"
    },
    {
     "data": {
      "image/png": "[encoded data removed]",
      "text/plain": [
       "<Figure size 432x288 with 1 Axes>"
      ]
     },
     "metadata": {},
     "output_type": "display_data"
    }
   ],
   "source": [
    "sns.scatterplot(x=\"LM_scrambled\", y=\"SQuAD\", data=mean_div)"
   ]
  }
 ],
 "metadata": {
  "kernelspec": {
   "display_name": "Python 3",
   "language": "python",
   "name": "python3"
  },
  "language_info": {
   "codemirror_mode": {
    "name": "ipython",
    "version": 3
   },
   "file_extension": ".py",
   "mimetype": "text/x-python",
   "name": "python",
   "nbconvert_exporter": "python",
   "pygments_lexer": "ipython3",
   "version": "3.6.8"
  }
 },
 "nbformat": 4,
 "nbformat_minor": 2
}
